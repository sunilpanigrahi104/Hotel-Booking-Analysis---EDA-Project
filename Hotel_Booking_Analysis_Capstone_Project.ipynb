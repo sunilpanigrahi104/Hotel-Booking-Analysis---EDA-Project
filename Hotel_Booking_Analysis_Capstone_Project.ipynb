{
  "nbformat": 4,
  "nbformat_minor": 0,
  "metadata": {
    "kernelspec": {
      "display_name": "Python 3",
      "language": "python",
      "name": "python3"
    },
    "language_info": {
      "codemirror_mode": {
        "name": "ipython",
        "version": 3
      },
      "file_extension": ".py",
      "mimetype": "text/x-python",
      "name": "python",
      "nbconvert_exporter": "python",
      "pygments_lexer": "ipython3",
      "version": "3.6.6"
    },
    "colab": {
      "name": "Hotel Booking Analysis - Capstone Project.ipynb",
      "provenance": [],
      "collapsed_sections": [],
      "include_colab_link": true
    }
  },
  "cells": [
    {
      "cell_type": "markdown",
      "metadata": {
        "id": "view-in-github",
        "colab_type": "text"
      },
      "source": [
        "<a href=\"https://colab.research.google.com/github/sunilpanigrahi104/Hotel-Booking-Analysis---EDA-Project/blob/main/Hotel_Booking_Analysis_Capstone_Project.ipynb\" target=\"_parent\"><img src=\"https://colab.research.google.com/assets/colab-badge.svg\" alt=\"Open In Colab\"/></a>"
      ]
    },
    {
      "cell_type": "markdown",
      "metadata": {
        "id": "Y06xIdG26kRF"
      },
      "source": [
        "## <b> Have you ever wondered when the best time of year to book a hotel room is? Or the optimal length of stay in order to get the best daily rate? What if you wanted to predict whether or not a hotel was likely to receive a disproportionately high number of special requests? This hotel booking dataset can help you explore those questions!\n",
        "\n",
        "## <b>This data set contains booking information for a city hotel and a resort hotel, and includes information such as when the booking was made, length of stay, the number of adults, children, and/or babies, and the number of available parking spaces, among other things. All personally identifying information has been removed from the data. </b>\n",
        "\n",
        "## <b> Explore and analyze the data to discover important factors that govern the bookings. </b>"
      ]
    },
    {
      "cell_type": "code",
      "metadata": {
        "id": "dByMsuzT8Tnw"
      },
      "source": [
        "# IMPORTING LIBRARY\n",
        "\n",
        "import pandas as pd\n",
        "import numpy as np\n",
        "import matplotlib.pyplot as plt\n",
        "import seaborn as sns\n",
        "import warnings\n",
        "warnings.filterwarnings('ignore')\n",
        "import missingno as msno"
      ],
      "execution_count": null,
      "outputs": []
    },
    {
      "cell_type": "markdown",
      "source": [
        "***--> IMPORTING LIBRARY COMPLETE HERE!***"
      ],
      "metadata": {
        "id": "D0ovyN6R-muU"
      }
    },
    {
      "cell_type": "code",
      "source": [
        "# MOUNTING GOOGLE DRIVE\n",
        "\n",
        "from google.colab import drive\n",
        "drive.mount('/content/drive')"
      ],
      "metadata": {
        "colab": {
          "base_uri": "https://localhost:8080/"
        },
        "id": "NAGJmzLkM5U1",
        "outputId": "510f122d-6c4e-4f75-e7f9-4304286624f9"
      },
      "execution_count": null,
      "outputs": [
        {
          "output_type": "stream",
          "name": "stdout",
          "text": [
            "Drive already mounted at /content/drive; to attempt to forcibly remount, call drive.mount(\"/content/drive\", force_remount=True).\n"
          ]
        }
      ]
    },
    {
      "cell_type": "code",
      "source": [
        "# IMPORTING DATASET\n",
        "\n",
        "path = '/content/drive/MyDrive/datas/EDA CAPSTONE PROJECT/Hotel Bookings.csv'\n",
        "df = pd.read_csv(path)\n"
      ],
      "metadata": {
        "id": "iRM1bLTmM6B5"
      },
      "execution_count": null,
      "outputs": []
    },
    {
      "cell_type": "code",
      "source": [
        "# TOP 5 ROWS OF THE DATA SET\n",
        "\n",
        "df.head()"
      ],
      "metadata": {
        "colab": {
          "base_uri": "https://localhost:8080/",
          "height": 386
        },
        "id": "AYSy56woNRSo",
        "outputId": "82f2c47a-c0fc-409f-8cf2-a271e5c73ca8"
      },
      "execution_count": null,
      "outputs": [
        {
          "output_type": "execute_result",
          "data": {
            "text/plain": [
              "          hotel  is_canceled  lead_time  arrival_date_year arrival_date_month  \\\n",
              "0  Resort Hotel            0        342               2015               July   \n",
              "1  Resort Hotel            0        737               2015               July   \n",
              "2  Resort Hotel            0          7               2015               July   \n",
              "3  Resort Hotel            0         13               2015               July   \n",
              "4  Resort Hotel            0         14               2015               July   \n",
              "\n",
              "   arrival_date_week_number  arrival_date_day_of_month  \\\n",
              "0                        27                          1   \n",
              "1                        27                          1   \n",
              "2                        27                          1   \n",
              "3                        27                          1   \n",
              "4                        27                          1   \n",
              "\n",
              "   stays_in_weekend_nights  stays_in_week_nights  adults  ...  deposit_type  \\\n",
              "0                        0                     0       2  ...    No Deposit   \n",
              "1                        0                     0       2  ...    No Deposit   \n",
              "2                        0                     1       1  ...    No Deposit   \n",
              "3                        0                     1       1  ...    No Deposit   \n",
              "4                        0                     2       2  ...    No Deposit   \n",
              "\n",
              "   agent company days_in_waiting_list customer_type   adr  \\\n",
              "0    NaN     NaN                    0     Transient   0.0   \n",
              "1    NaN     NaN                    0     Transient   0.0   \n",
              "2    NaN     NaN                    0     Transient  75.0   \n",
              "3  304.0     NaN                    0     Transient  75.0   \n",
              "4  240.0     NaN                    0     Transient  98.0   \n",
              "\n",
              "   required_car_parking_spaces  total_of_special_requests  reservation_status  \\\n",
              "0                            0                          0           Check-Out   \n",
              "1                            0                          0           Check-Out   \n",
              "2                            0                          0           Check-Out   \n",
              "3                            0                          0           Check-Out   \n",
              "4                            0                          1           Check-Out   \n",
              "\n",
              "  reservation_status_date  \n",
              "0              2015-07-01  \n",
              "1              2015-07-01  \n",
              "2              2015-07-02  \n",
              "3              2015-07-02  \n",
              "4              2015-07-03  \n",
              "\n",
              "[5 rows x 32 columns]"
            ],
            "text/html": [
              "\n",
              "  <div id=\"df-7782e10d-aa8c-4712-a365-fc1ce43445c8\">\n",
              "    <div class=\"colab-df-container\">\n",
              "      <div>\n",
              "<style scoped>\n",
              "    .dataframe tbody tr th:only-of-type {\n",
              "        vertical-align: middle;\n",
              "    }\n",
              "\n",
              "    .dataframe tbody tr th {\n",
              "        vertical-align: top;\n",
              "    }\n",
              "\n",
              "    .dataframe thead th {\n",
              "        text-align: right;\n",
              "    }\n",
              "</style>\n",
              "<table border=\"1\" class=\"dataframe\">\n",
              "  <thead>\n",
              "    <tr style=\"text-align: right;\">\n",
              "      <th></th>\n",
              "      <th>hotel</th>\n",
              "      <th>is_canceled</th>\n",
              "      <th>lead_time</th>\n",
              "      <th>arrival_date_year</th>\n",
              "      <th>arrival_date_month</th>\n",
              "      <th>arrival_date_week_number</th>\n",
              "      <th>arrival_date_day_of_month</th>\n",
              "      <th>stays_in_weekend_nights</th>\n",
              "      <th>stays_in_week_nights</th>\n",
              "      <th>adults</th>\n",
              "      <th>...</th>\n",
              "      <th>deposit_type</th>\n",
              "      <th>agent</th>\n",
              "      <th>company</th>\n",
              "      <th>days_in_waiting_list</th>\n",
              "      <th>customer_type</th>\n",
              "      <th>adr</th>\n",
              "      <th>required_car_parking_spaces</th>\n",
              "      <th>total_of_special_requests</th>\n",
              "      <th>reservation_status</th>\n",
              "      <th>reservation_status_date</th>\n",
              "    </tr>\n",
              "  </thead>\n",
              "  <tbody>\n",
              "    <tr>\n",
              "      <th>0</th>\n",
              "      <td>Resort Hotel</td>\n",
              "      <td>0</td>\n",
              "      <td>342</td>\n",
              "      <td>2015</td>\n",
              "      <td>July</td>\n",
              "      <td>27</td>\n",
              "      <td>1</td>\n",
              "      <td>0</td>\n",
              "      <td>0</td>\n",
              "      <td>2</td>\n",
              "      <td>...</td>\n",
              "      <td>No Deposit</td>\n",
              "      <td>NaN</td>\n",
              "      <td>NaN</td>\n",
              "      <td>0</td>\n",
              "      <td>Transient</td>\n",
              "      <td>0.0</td>\n",
              "      <td>0</td>\n",
              "      <td>0</td>\n",
              "      <td>Check-Out</td>\n",
              "      <td>2015-07-01</td>\n",
              "    </tr>\n",
              "    <tr>\n",
              "      <th>1</th>\n",
              "      <td>Resort Hotel</td>\n",
              "      <td>0</td>\n",
              "      <td>737</td>\n",
              "      <td>2015</td>\n",
              "      <td>July</td>\n",
              "      <td>27</td>\n",
              "      <td>1</td>\n",
              "      <td>0</td>\n",
              "      <td>0</td>\n",
              "      <td>2</td>\n",
              "      <td>...</td>\n",
              "      <td>No Deposit</td>\n",
              "      <td>NaN</td>\n",
              "      <td>NaN</td>\n",
              "      <td>0</td>\n",
              "      <td>Transient</td>\n",
              "      <td>0.0</td>\n",
              "      <td>0</td>\n",
              "      <td>0</td>\n",
              "      <td>Check-Out</td>\n",
              "      <td>2015-07-01</td>\n",
              "    </tr>\n",
              "    <tr>\n",
              "      <th>2</th>\n",
              "      <td>Resort Hotel</td>\n",
              "      <td>0</td>\n",
              "      <td>7</td>\n",
              "      <td>2015</td>\n",
              "      <td>July</td>\n",
              "      <td>27</td>\n",
              "      <td>1</td>\n",
              "      <td>0</td>\n",
              "      <td>1</td>\n",
              "      <td>1</td>\n",
              "      <td>...</td>\n",
              "      <td>No Deposit</td>\n",
              "      <td>NaN</td>\n",
              "      <td>NaN</td>\n",
              "      <td>0</td>\n",
              "      <td>Transient</td>\n",
              "      <td>75.0</td>\n",
              "      <td>0</td>\n",
              "      <td>0</td>\n",
              "      <td>Check-Out</td>\n",
              "      <td>2015-07-02</td>\n",
              "    </tr>\n",
              "    <tr>\n",
              "      <th>3</th>\n",
              "      <td>Resort Hotel</td>\n",
              "      <td>0</td>\n",
              "      <td>13</td>\n",
              "      <td>2015</td>\n",
              "      <td>July</td>\n",
              "      <td>27</td>\n",
              "      <td>1</td>\n",
              "      <td>0</td>\n",
              "      <td>1</td>\n",
              "      <td>1</td>\n",
              "      <td>...</td>\n",
              "      <td>No Deposit</td>\n",
              "      <td>304.0</td>\n",
              "      <td>NaN</td>\n",
              "      <td>0</td>\n",
              "      <td>Transient</td>\n",
              "      <td>75.0</td>\n",
              "      <td>0</td>\n",
              "      <td>0</td>\n",
              "      <td>Check-Out</td>\n",
              "      <td>2015-07-02</td>\n",
              "    </tr>\n",
              "    <tr>\n",
              "      <th>4</th>\n",
              "      <td>Resort Hotel</td>\n",
              "      <td>0</td>\n",
              "      <td>14</td>\n",
              "      <td>2015</td>\n",
              "      <td>July</td>\n",
              "      <td>27</td>\n",
              "      <td>1</td>\n",
              "      <td>0</td>\n",
              "      <td>2</td>\n",
              "      <td>2</td>\n",
              "      <td>...</td>\n",
              "      <td>No Deposit</td>\n",
              "      <td>240.0</td>\n",
              "      <td>NaN</td>\n",
              "      <td>0</td>\n",
              "      <td>Transient</td>\n",
              "      <td>98.0</td>\n",
              "      <td>0</td>\n",
              "      <td>1</td>\n",
              "      <td>Check-Out</td>\n",
              "      <td>2015-07-03</td>\n",
              "    </tr>\n",
              "  </tbody>\n",
              "</table>\n",
              "<p>5 rows × 32 columns</p>\n",
              "</div>\n",
              "      <button class=\"colab-df-convert\" onclick=\"convertToInteractive('df-7782e10d-aa8c-4712-a365-fc1ce43445c8')\"\n",
              "              title=\"Convert this dataframe to an interactive table.\"\n",
              "              style=\"display:none;\">\n",
              "        \n",
              "  <svg xmlns=\"http://www.w3.org/2000/svg\" height=\"24px\"viewBox=\"0 0 24 24\"\n",
              "       width=\"24px\">\n",
              "    <path d=\"M0 0h24v24H0V0z\" fill=\"none\"/>\n",
              "    <path d=\"M18.56 5.44l.94 2.06.94-2.06 2.06-.94-2.06-.94-.94-2.06-.94 2.06-2.06.94zm-11 1L8.5 8.5l.94-2.06 2.06-.94-2.06-.94L8.5 2.5l-.94 2.06-2.06.94zm10 10l.94 2.06.94-2.06 2.06-.94-2.06-.94-.94-2.06-.94 2.06-2.06.94z\"/><path d=\"M17.41 7.96l-1.37-1.37c-.4-.4-.92-.59-1.43-.59-.52 0-1.04.2-1.43.59L10.3 9.45l-7.72 7.72c-.78.78-.78 2.05 0 2.83L4 21.41c.39.39.9.59 1.41.59.51 0 1.02-.2 1.41-.59l7.78-7.78 2.81-2.81c.8-.78.8-2.07 0-2.86zM5.41 20L4 18.59l7.72-7.72 1.47 1.35L5.41 20z\"/>\n",
              "  </svg>\n",
              "      </button>\n",
              "      \n",
              "  <style>\n",
              "    .colab-df-container {\n",
              "      display:flex;\n",
              "      flex-wrap:wrap;\n",
              "      gap: 12px;\n",
              "    }\n",
              "\n",
              "    .colab-df-convert {\n",
              "      background-color: #E8F0FE;\n",
              "      border: none;\n",
              "      border-radius: 50%;\n",
              "      cursor: pointer;\n",
              "      display: none;\n",
              "      fill: #1967D2;\n",
              "      height: 32px;\n",
              "      padding: 0 0 0 0;\n",
              "      width: 32px;\n",
              "    }\n",
              "\n",
              "    .colab-df-convert:hover {\n",
              "      background-color: #E2EBFA;\n",
              "      box-shadow: 0px 1px 2px rgba(60, 64, 67, 0.3), 0px 1px 3px 1px rgba(60, 64, 67, 0.15);\n",
              "      fill: #174EA6;\n",
              "    }\n",
              "\n",
              "    [theme=dark] .colab-df-convert {\n",
              "      background-color: #3B4455;\n",
              "      fill: #D2E3FC;\n",
              "    }\n",
              "\n",
              "    [theme=dark] .colab-df-convert:hover {\n",
              "      background-color: #434B5C;\n",
              "      box-shadow: 0px 1px 3px 1px rgba(0, 0, 0, 0.15);\n",
              "      filter: drop-shadow(0px 1px 2px rgba(0, 0, 0, 0.3));\n",
              "      fill: #FFFFFF;\n",
              "    }\n",
              "  </style>\n",
              "\n",
              "      <script>\n",
              "        const buttonEl =\n",
              "          document.querySelector('#df-7782e10d-aa8c-4712-a365-fc1ce43445c8 button.colab-df-convert');\n",
              "        buttonEl.style.display =\n",
              "          google.colab.kernel.accessAllowed ? 'block' : 'none';\n",
              "\n",
              "        async function convertToInteractive(key) {\n",
              "          const element = document.querySelector('#df-7782e10d-aa8c-4712-a365-fc1ce43445c8');\n",
              "          const dataTable =\n",
              "            await google.colab.kernel.invokeFunction('convertToInteractive',\n",
              "                                                     [key], {});\n",
              "          if (!dataTable) return;\n",
              "\n",
              "          const docLinkHtml = 'Like what you see? Visit the ' +\n",
              "            '<a target=\"_blank\" href=https://colab.research.google.com/notebooks/data_table.ipynb>data table notebook</a>'\n",
              "            + ' to learn more about interactive tables.';\n",
              "          element.innerHTML = '';\n",
              "          dataTable['output_type'] = 'display_data';\n",
              "          await google.colab.output.renderOutput(dataTable, element);\n",
              "          const docLink = document.createElement('div');\n",
              "          docLink.innerHTML = docLinkHtml;\n",
              "          element.appendChild(docLink);\n",
              "        }\n",
              "      </script>\n",
              "    </div>\n",
              "  </div>\n",
              "  "
            ]
          },
          "metadata": {},
          "execution_count": 4
        }
      ]
    },
    {
      "cell_type": "code",
      "source": [
        "df.T"
      ],
      "metadata": {
        "colab": {
          "base_uri": "https://localhost:8080/",
          "height": 1000
        },
        "id": "YadPnbUdNugw",
        "outputId": "def613a4-e60b-4e67-a503-44604496d48b"
      },
      "execution_count": null,
      "outputs": [
        {
          "output_type": "execute_result",
          "data": {
            "text/plain": [
              "                                      0             1             2       \\\n",
              "hotel                           Resort Hotel  Resort Hotel  Resort Hotel   \n",
              "is_canceled                                0             0             0   \n",
              "lead_time                                342           737             7   \n",
              "arrival_date_year                       2015          2015          2015   \n",
              "arrival_date_month                      July          July          July   \n",
              "arrival_date_week_number                  27            27            27   \n",
              "arrival_date_day_of_month                  1             1             1   \n",
              "stays_in_weekend_nights                    0             0             0   \n",
              "stays_in_week_nights                       0             0             1   \n",
              "adults                                     2             2             1   \n",
              "children                                 0.0           0.0           0.0   \n",
              "babies                                     0             0             0   \n",
              "meal                                      BB            BB            BB   \n",
              "country                                  PRT           PRT           GBR   \n",
              "market_segment                        Direct        Direct        Direct   \n",
              "distribution_channel                  Direct        Direct        Direct   \n",
              "is_repeated_guest                          0             0             0   \n",
              "previous_cancellations                     0             0             0   \n",
              "previous_bookings_not_canceled             0             0             0   \n",
              "reserved_room_type                         C             C             A   \n",
              "assigned_room_type                         C             C             C   \n",
              "booking_changes                            3             4             0   \n",
              "deposit_type                      No Deposit    No Deposit    No Deposit   \n",
              "agent                                    NaN           NaN           NaN   \n",
              "company                                  NaN           NaN           NaN   \n",
              "days_in_waiting_list                       0             0             0   \n",
              "customer_type                      Transient     Transient     Transient   \n",
              "adr                                      0.0           0.0          75.0   \n",
              "required_car_parking_spaces                0             0             0   \n",
              "total_of_special_requests                  0             0             0   \n",
              "reservation_status                 Check-Out     Check-Out     Check-Out   \n",
              "reservation_status_date           2015-07-01    2015-07-01    2015-07-02   \n",
              "\n",
              "                                      3             4             5       \\\n",
              "hotel                           Resort Hotel  Resort Hotel  Resort Hotel   \n",
              "is_canceled                                0             0             0   \n",
              "lead_time                                 13            14            14   \n",
              "arrival_date_year                       2015          2015          2015   \n",
              "arrival_date_month                      July          July          July   \n",
              "arrival_date_week_number                  27            27            27   \n",
              "arrival_date_day_of_month                  1             1             1   \n",
              "stays_in_weekend_nights                    0             0             0   \n",
              "stays_in_week_nights                       1             2             2   \n",
              "adults                                     1             2             2   \n",
              "children                                 0.0           0.0           0.0   \n",
              "babies                                     0             0             0   \n",
              "meal                                      BB            BB            BB   \n",
              "country                                  GBR           GBR           GBR   \n",
              "market_segment                     Corporate     Online TA     Online TA   \n",
              "distribution_channel               Corporate         TA/TO         TA/TO   \n",
              "is_repeated_guest                          0             0             0   \n",
              "previous_cancellations                     0             0             0   \n",
              "previous_bookings_not_canceled             0             0             0   \n",
              "reserved_room_type                         A             A             A   \n",
              "assigned_room_type                         A             A             A   \n",
              "booking_changes                            0             0             0   \n",
              "deposit_type                      No Deposit    No Deposit    No Deposit   \n",
              "agent                                  304.0         240.0         240.0   \n",
              "company                                  NaN           NaN           NaN   \n",
              "days_in_waiting_list                       0             0             0   \n",
              "customer_type                      Transient     Transient     Transient   \n",
              "adr                                     75.0          98.0          98.0   \n",
              "required_car_parking_spaces                0             0             0   \n",
              "total_of_special_requests                  0             1             1   \n",
              "reservation_status                 Check-Out     Check-Out     Check-Out   \n",
              "reservation_status_date           2015-07-02    2015-07-03    2015-07-03   \n",
              "\n",
              "                                      6             7             8       \\\n",
              "hotel                           Resort Hotel  Resort Hotel  Resort Hotel   \n",
              "is_canceled                                0             0             1   \n",
              "lead_time                                  0             9            85   \n",
              "arrival_date_year                       2015          2015          2015   \n",
              "arrival_date_month                      July          July          July   \n",
              "arrival_date_week_number                  27            27            27   \n",
              "arrival_date_day_of_month                  1             1             1   \n",
              "stays_in_weekend_nights                    0             0             0   \n",
              "stays_in_week_nights                       2             2             3   \n",
              "adults                                     2             2             2   \n",
              "children                                 0.0           0.0           0.0   \n",
              "babies                                     0             0             0   \n",
              "meal                                      BB            FB            BB   \n",
              "country                                  PRT           PRT           PRT   \n",
              "market_segment                        Direct        Direct     Online TA   \n",
              "distribution_channel                  Direct        Direct         TA/TO   \n",
              "is_repeated_guest                          0             0             0   \n",
              "previous_cancellations                     0             0             0   \n",
              "previous_bookings_not_canceled             0             0             0   \n",
              "reserved_room_type                         C             C             A   \n",
              "assigned_room_type                         C             C             A   \n",
              "booking_changes                            0             0             0   \n",
              "deposit_type                      No Deposit    No Deposit    No Deposit   \n",
              "agent                                    NaN         303.0         240.0   \n",
              "company                                  NaN           NaN           NaN   \n",
              "days_in_waiting_list                       0             0             0   \n",
              "customer_type                      Transient     Transient     Transient   \n",
              "adr                                    107.0         103.0          82.0   \n",
              "required_car_parking_spaces                0             0             0   \n",
              "total_of_special_requests                  0             1             1   \n",
              "reservation_status                 Check-Out     Check-Out      Canceled   \n",
              "reservation_status_date           2015-07-03    2015-07-03    2015-05-06   \n",
              "\n",
              "                                       9       ...      119380      119381  \\\n",
              "hotel                            Resort Hotel  ...  City Hotel  City Hotel   \n",
              "is_canceled                                 1  ...           0           0   \n",
              "lead_time                                  75  ...          44         188   \n",
              "arrival_date_year                        2015  ...        2017        2017   \n",
              "arrival_date_month                       July  ...      August      August   \n",
              "arrival_date_week_number                   27  ...          35          35   \n",
              "arrival_date_day_of_month                   1  ...          31          31   \n",
              "stays_in_weekend_nights                     0  ...           1           2   \n",
              "stays_in_week_nights                        3  ...           3           3   \n",
              "adults                                      2  ...           2           2   \n",
              "children                                  0.0  ...         0.0         0.0   \n",
              "babies                                      0  ...           0           0   \n",
              "meal                                       HB  ...          SC          BB   \n",
              "country                                   PRT  ...         DEU         DEU   \n",
              "market_segment                  Offline TA/TO  ...   Online TA      Direct   \n",
              "distribution_channel                    TA/TO  ...       TA/TO      Direct   \n",
              "is_repeated_guest                           0  ...           0           0   \n",
              "previous_cancellations                      0  ...           0           0   \n",
              "previous_bookings_not_canceled              0  ...           0           0   \n",
              "reserved_room_type                          D  ...           A           A   \n",
              "assigned_room_type                          D  ...           A           A   \n",
              "booking_changes                             0  ...           0           0   \n",
              "deposit_type                       No Deposit  ...  No Deposit  No Deposit   \n",
              "agent                                    15.0  ...         9.0        14.0   \n",
              "company                                   NaN  ...         NaN         NaN   \n",
              "days_in_waiting_list                        0  ...           0           0   \n",
              "customer_type                       Transient  ...   Transient   Transient   \n",
              "adr                                     105.5  ...      140.75        99.0   \n",
              "required_car_parking_spaces                 0  ...           0           0   \n",
              "total_of_special_requests                   0  ...           1           0   \n",
              "reservation_status                   Canceled  ...   Check-Out   Check-Out   \n",
              "reservation_status_date            2015-04-22  ...  2017-09-04  2017-09-05   \n",
              "\n",
              "                                    119382         119383         119384  \\\n",
              "hotel                           City Hotel     City Hotel     City Hotel   \n",
              "is_canceled                              0              0              0   \n",
              "lead_time                              135            164             21   \n",
              "arrival_date_year                     2017           2017           2017   \n",
              "arrival_date_month                  August         August         August   \n",
              "arrival_date_week_number                35             35             35   \n",
              "arrival_date_day_of_month               30             31             30   \n",
              "stays_in_weekend_nights                  2              2              2   \n",
              "stays_in_week_nights                     4              4              5   \n",
              "adults                                   3              2              2   \n",
              "children                               0.0            0.0            0.0   \n",
              "babies                                   0              0              0   \n",
              "meal                                    BB             BB             BB   \n",
              "country                                JPN            DEU            BEL   \n",
              "market_segment                   Online TA  Offline TA/TO  Offline TA/TO   \n",
              "distribution_channel                 TA/TO          TA/TO          TA/TO   \n",
              "is_repeated_guest                        0              0              0   \n",
              "previous_cancellations                   0              0              0   \n",
              "previous_bookings_not_canceled           0              0              0   \n",
              "reserved_room_type                       G              A              A   \n",
              "assigned_room_type                       G              A              A   \n",
              "booking_changes                          0              0              0   \n",
              "deposit_type                    No Deposit     No Deposit     No Deposit   \n",
              "agent                                  7.0           42.0          394.0   \n",
              "company                                NaN            NaN            NaN   \n",
              "days_in_waiting_list                     0              0              0   \n",
              "customer_type                    Transient      Transient      Transient   \n",
              "adr                                  209.0           87.6          96.14   \n",
              "required_car_parking_spaces              0              0              0   \n",
              "total_of_special_requests                0              0              2   \n",
              "reservation_status               Check-Out      Check-Out      Check-Out   \n",
              "reservation_status_date         2017-09-05     2017-09-06     2017-09-06   \n",
              "\n",
              "                                       119385      119386      119387  \\\n",
              "hotel                              City Hotel  City Hotel  City Hotel   \n",
              "is_canceled                                 0           0           0   \n",
              "lead_time                                  23         102          34   \n",
              "arrival_date_year                        2017        2017        2017   \n",
              "arrival_date_month                     August      August      August   \n",
              "arrival_date_week_number                   35          35          35   \n",
              "arrival_date_day_of_month                  30          31          31   \n",
              "stays_in_weekend_nights                     2           2           2   \n",
              "stays_in_week_nights                        5           5           5   \n",
              "adults                                      2           3           2   \n",
              "children                                  0.0         0.0         0.0   \n",
              "babies                                      0           0           0   \n",
              "meal                                       BB          BB          BB   \n",
              "country                                   BEL         FRA         DEU   \n",
              "market_segment                  Offline TA/TO   Online TA   Online TA   \n",
              "distribution_channel                    TA/TO       TA/TO       TA/TO   \n",
              "is_repeated_guest                           0           0           0   \n",
              "previous_cancellations                      0           0           0   \n",
              "previous_bookings_not_canceled              0           0           0   \n",
              "reserved_room_type                          A           E           D   \n",
              "assigned_room_type                          A           E           D   \n",
              "booking_changes                             0           0           0   \n",
              "deposit_type                       No Deposit  No Deposit  No Deposit   \n",
              "agent                                   394.0         9.0         9.0   \n",
              "company                                   NaN         NaN         NaN   \n",
              "days_in_waiting_list                        0           0           0   \n",
              "customer_type                       Transient   Transient   Transient   \n",
              "adr                                     96.14      225.43      157.71   \n",
              "required_car_parking_spaces                 0           0           0   \n",
              "total_of_special_requests                   0           2           4   \n",
              "reservation_status                  Check-Out   Check-Out   Check-Out   \n",
              "reservation_status_date            2017-09-06  2017-09-07  2017-09-07   \n",
              "\n",
              "                                    119388      119389  \n",
              "hotel                           City Hotel  City Hotel  \n",
              "is_canceled                              0           0  \n",
              "lead_time                              109         205  \n",
              "arrival_date_year                     2017        2017  \n",
              "arrival_date_month                  August      August  \n",
              "arrival_date_week_number                35          35  \n",
              "arrival_date_day_of_month               31          29  \n",
              "stays_in_weekend_nights                  2           2  \n",
              "stays_in_week_nights                     5           7  \n",
              "adults                                   2           2  \n",
              "children                               0.0         0.0  \n",
              "babies                                   0           0  \n",
              "meal                                    BB          HB  \n",
              "country                                GBR         DEU  \n",
              "market_segment                   Online TA   Online TA  \n",
              "distribution_channel                 TA/TO       TA/TO  \n",
              "is_repeated_guest                        0           0  \n",
              "previous_cancellations                   0           0  \n",
              "previous_bookings_not_canceled           0           0  \n",
              "reserved_room_type                       A           A  \n",
              "assigned_room_type                       A           A  \n",
              "booking_changes                          0           0  \n",
              "deposit_type                    No Deposit  No Deposit  \n",
              "agent                                 89.0         9.0  \n",
              "company                                NaN         NaN  \n",
              "days_in_waiting_list                     0           0  \n",
              "customer_type                    Transient   Transient  \n",
              "adr                                  104.4       151.2  \n",
              "required_car_parking_spaces              0           0  \n",
              "total_of_special_requests                0           2  \n",
              "reservation_status               Check-Out   Check-Out  \n",
              "reservation_status_date         2017-09-07  2017-09-07  \n",
              "\n",
              "[32 rows x 119390 columns]"
            ],
            "text/html": [
              "\n",
              "  <div id=\"df-2a032359-20c7-4260-b1bb-2c52bbd15480\">\n",
              "    <div class=\"colab-df-container\">\n",
              "      <div>\n",
              "<style scoped>\n",
              "    .dataframe tbody tr th:only-of-type {\n",
              "        vertical-align: middle;\n",
              "    }\n",
              "\n",
              "    .dataframe tbody tr th {\n",
              "        vertical-align: top;\n",
              "    }\n",
              "\n",
              "    .dataframe thead th {\n",
              "        text-align: right;\n",
              "    }\n",
              "</style>\n",
              "<table border=\"1\" class=\"dataframe\">\n",
              "  <thead>\n",
              "    <tr style=\"text-align: right;\">\n",
              "      <th></th>\n",
              "      <th>0</th>\n",
              "      <th>1</th>\n",
              "      <th>2</th>\n",
              "      <th>3</th>\n",
              "      <th>4</th>\n",
              "      <th>5</th>\n",
              "      <th>6</th>\n",
              "      <th>7</th>\n",
              "      <th>8</th>\n",
              "      <th>9</th>\n",
              "      <th>...</th>\n",
              "      <th>119380</th>\n",
              "      <th>119381</th>\n",
              "      <th>119382</th>\n",
              "      <th>119383</th>\n",
              "      <th>119384</th>\n",
              "      <th>119385</th>\n",
              "      <th>119386</th>\n",
              "      <th>119387</th>\n",
              "      <th>119388</th>\n",
              "      <th>119389</th>\n",
              "    </tr>\n",
              "  </thead>\n",
              "  <tbody>\n",
              "    <tr>\n",
              "      <th>hotel</th>\n",
              "      <td>Resort Hotel</td>\n",
              "      <td>Resort Hotel</td>\n",
              "      <td>Resort Hotel</td>\n",
              "      <td>Resort Hotel</td>\n",
              "      <td>Resort Hotel</td>\n",
              "      <td>Resort Hotel</td>\n",
              "      <td>Resort Hotel</td>\n",
              "      <td>Resort Hotel</td>\n",
              "      <td>Resort Hotel</td>\n",
              "      <td>Resort Hotel</td>\n",
              "      <td>...</td>\n",
              "      <td>City Hotel</td>\n",
              "      <td>City Hotel</td>\n",
              "      <td>City Hotel</td>\n",
              "      <td>City Hotel</td>\n",
              "      <td>City Hotel</td>\n",
              "      <td>City Hotel</td>\n",
              "      <td>City Hotel</td>\n",
              "      <td>City Hotel</td>\n",
              "      <td>City Hotel</td>\n",
              "      <td>City Hotel</td>\n",
              "    </tr>\n",
              "    <tr>\n",
              "      <th>is_canceled</th>\n",
              "      <td>0</td>\n",
              "      <td>0</td>\n",
              "      <td>0</td>\n",
              "      <td>0</td>\n",
              "      <td>0</td>\n",
              "      <td>0</td>\n",
              "      <td>0</td>\n",
              "      <td>0</td>\n",
              "      <td>1</td>\n",
              "      <td>1</td>\n",
              "      <td>...</td>\n",
              "      <td>0</td>\n",
              "      <td>0</td>\n",
              "      <td>0</td>\n",
              "      <td>0</td>\n",
              "      <td>0</td>\n",
              "      <td>0</td>\n",
              "      <td>0</td>\n",
              "      <td>0</td>\n",
              "      <td>0</td>\n",
              "      <td>0</td>\n",
              "    </tr>\n",
              "    <tr>\n",
              "      <th>lead_time</th>\n",
              "      <td>342</td>\n",
              "      <td>737</td>\n",
              "      <td>7</td>\n",
              "      <td>13</td>\n",
              "      <td>14</td>\n",
              "      <td>14</td>\n",
              "      <td>0</td>\n",
              "      <td>9</td>\n",
              "      <td>85</td>\n",
              "      <td>75</td>\n",
              "      <td>...</td>\n",
              "      <td>44</td>\n",
              "      <td>188</td>\n",
              "      <td>135</td>\n",
              "      <td>164</td>\n",
              "      <td>21</td>\n",
              "      <td>23</td>\n",
              "      <td>102</td>\n",
              "      <td>34</td>\n",
              "      <td>109</td>\n",
              "      <td>205</td>\n",
              "    </tr>\n",
              "    <tr>\n",
              "      <th>arrival_date_year</th>\n",
              "      <td>2015</td>\n",
              "      <td>2015</td>\n",
              "      <td>2015</td>\n",
              "      <td>2015</td>\n",
              "      <td>2015</td>\n",
              "      <td>2015</td>\n",
              "      <td>2015</td>\n",
              "      <td>2015</td>\n",
              "      <td>2015</td>\n",
              "      <td>2015</td>\n",
              "      <td>...</td>\n",
              "      <td>2017</td>\n",
              "      <td>2017</td>\n",
              "      <td>2017</td>\n",
              "      <td>2017</td>\n",
              "      <td>2017</td>\n",
              "      <td>2017</td>\n",
              "      <td>2017</td>\n",
              "      <td>2017</td>\n",
              "      <td>2017</td>\n",
              "      <td>2017</td>\n",
              "    </tr>\n",
              "    <tr>\n",
              "      <th>arrival_date_month</th>\n",
              "      <td>July</td>\n",
              "      <td>July</td>\n",
              "      <td>July</td>\n",
              "      <td>July</td>\n",
              "      <td>July</td>\n",
              "      <td>July</td>\n",
              "      <td>July</td>\n",
              "      <td>July</td>\n",
              "      <td>July</td>\n",
              "      <td>July</td>\n",
              "      <td>...</td>\n",
              "      <td>August</td>\n",
              "      <td>August</td>\n",
              "      <td>August</td>\n",
              "      <td>August</td>\n",
              "      <td>August</td>\n",
              "      <td>August</td>\n",
              "      <td>August</td>\n",
              "      <td>August</td>\n",
              "      <td>August</td>\n",
              "      <td>August</td>\n",
              "    </tr>\n",
              "    <tr>\n",
              "      <th>arrival_date_week_number</th>\n",
              "      <td>27</td>\n",
              "      <td>27</td>\n",
              "      <td>27</td>\n",
              "      <td>27</td>\n",
              "      <td>27</td>\n",
              "      <td>27</td>\n",
              "      <td>27</td>\n",
              "      <td>27</td>\n",
              "      <td>27</td>\n",
              "      <td>27</td>\n",
              "      <td>...</td>\n",
              "      <td>35</td>\n",
              "      <td>35</td>\n",
              "      <td>35</td>\n",
              "      <td>35</td>\n",
              "      <td>35</td>\n",
              "      <td>35</td>\n",
              "      <td>35</td>\n",
              "      <td>35</td>\n",
              "      <td>35</td>\n",
              "      <td>35</td>\n",
              "    </tr>\n",
              "    <tr>\n",
              "      <th>arrival_date_day_of_month</th>\n",
              "      <td>1</td>\n",
              "      <td>1</td>\n",
              "      <td>1</td>\n",
              "      <td>1</td>\n",
              "      <td>1</td>\n",
              "      <td>1</td>\n",
              "      <td>1</td>\n",
              "      <td>1</td>\n",
              "      <td>1</td>\n",
              "      <td>1</td>\n",
              "      <td>...</td>\n",
              "      <td>31</td>\n",
              "      <td>31</td>\n",
              "      <td>30</td>\n",
              "      <td>31</td>\n",
              "      <td>30</td>\n",
              "      <td>30</td>\n",
              "      <td>31</td>\n",
              "      <td>31</td>\n",
              "      <td>31</td>\n",
              "      <td>29</td>\n",
              "    </tr>\n",
              "    <tr>\n",
              "      <th>stays_in_weekend_nights</th>\n",
              "      <td>0</td>\n",
              "      <td>0</td>\n",
              "      <td>0</td>\n",
              "      <td>0</td>\n",
              "      <td>0</td>\n",
              "      <td>0</td>\n",
              "      <td>0</td>\n",
              "      <td>0</td>\n",
              "      <td>0</td>\n",
              "      <td>0</td>\n",
              "      <td>...</td>\n",
              "      <td>1</td>\n",
              "      <td>2</td>\n",
              "      <td>2</td>\n",
              "      <td>2</td>\n",
              "      <td>2</td>\n",
              "      <td>2</td>\n",
              "      <td>2</td>\n",
              "      <td>2</td>\n",
              "      <td>2</td>\n",
              "      <td>2</td>\n",
              "    </tr>\n",
              "    <tr>\n",
              "      <th>stays_in_week_nights</th>\n",
              "      <td>0</td>\n",
              "      <td>0</td>\n",
              "      <td>1</td>\n",
              "      <td>1</td>\n",
              "      <td>2</td>\n",
              "      <td>2</td>\n",
              "      <td>2</td>\n",
              "      <td>2</td>\n",
              "      <td>3</td>\n",
              "      <td>3</td>\n",
              "      <td>...</td>\n",
              "      <td>3</td>\n",
              "      <td>3</td>\n",
              "      <td>4</td>\n",
              "      <td>4</td>\n",
              "      <td>5</td>\n",
              "      <td>5</td>\n",
              "      <td>5</td>\n",
              "      <td>5</td>\n",
              "      <td>5</td>\n",
              "      <td>7</td>\n",
              "    </tr>\n",
              "    <tr>\n",
              "      <th>adults</th>\n",
              "      <td>2</td>\n",
              "      <td>2</td>\n",
              "      <td>1</td>\n",
              "      <td>1</td>\n",
              "      <td>2</td>\n",
              "      <td>2</td>\n",
              "      <td>2</td>\n",
              "      <td>2</td>\n",
              "      <td>2</td>\n",
              "      <td>2</td>\n",
              "      <td>...</td>\n",
              "      <td>2</td>\n",
              "      <td>2</td>\n",
              "      <td>3</td>\n",
              "      <td>2</td>\n",
              "      <td>2</td>\n",
              "      <td>2</td>\n",
              "      <td>3</td>\n",
              "      <td>2</td>\n",
              "      <td>2</td>\n",
              "      <td>2</td>\n",
              "    </tr>\n",
              "    <tr>\n",
              "      <th>children</th>\n",
              "      <td>0.0</td>\n",
              "      <td>0.0</td>\n",
              "      <td>0.0</td>\n",
              "      <td>0.0</td>\n",
              "      <td>0.0</td>\n",
              "      <td>0.0</td>\n",
              "      <td>0.0</td>\n",
              "      <td>0.0</td>\n",
              "      <td>0.0</td>\n",
              "      <td>0.0</td>\n",
              "      <td>...</td>\n",
              "      <td>0.0</td>\n",
              "      <td>0.0</td>\n",
              "      <td>0.0</td>\n",
              "      <td>0.0</td>\n",
              "      <td>0.0</td>\n",
              "      <td>0.0</td>\n",
              "      <td>0.0</td>\n",
              "      <td>0.0</td>\n",
              "      <td>0.0</td>\n",
              "      <td>0.0</td>\n",
              "    </tr>\n",
              "    <tr>\n",
              "      <th>babies</th>\n",
              "      <td>0</td>\n",
              "      <td>0</td>\n",
              "      <td>0</td>\n",
              "      <td>0</td>\n",
              "      <td>0</td>\n",
              "      <td>0</td>\n",
              "      <td>0</td>\n",
              "      <td>0</td>\n",
              "      <td>0</td>\n",
              "      <td>0</td>\n",
              "      <td>...</td>\n",
              "      <td>0</td>\n",
              "      <td>0</td>\n",
              "      <td>0</td>\n",
              "      <td>0</td>\n",
              "      <td>0</td>\n",
              "      <td>0</td>\n",
              "      <td>0</td>\n",
              "      <td>0</td>\n",
              "      <td>0</td>\n",
              "      <td>0</td>\n",
              "    </tr>\n",
              "    <tr>\n",
              "      <th>meal</th>\n",
              "      <td>BB</td>\n",
              "      <td>BB</td>\n",
              "      <td>BB</td>\n",
              "      <td>BB</td>\n",
              "      <td>BB</td>\n",
              "      <td>BB</td>\n",
              "      <td>BB</td>\n",
              "      <td>FB</td>\n",
              "      <td>BB</td>\n",
              "      <td>HB</td>\n",
              "      <td>...</td>\n",
              "      <td>SC</td>\n",
              "      <td>BB</td>\n",
              "      <td>BB</td>\n",
              "      <td>BB</td>\n",
              "      <td>BB</td>\n",
              "      <td>BB</td>\n",
              "      <td>BB</td>\n",
              "      <td>BB</td>\n",
              "      <td>BB</td>\n",
              "      <td>HB</td>\n",
              "    </tr>\n",
              "    <tr>\n",
              "      <th>country</th>\n",
              "      <td>PRT</td>\n",
              "      <td>PRT</td>\n",
              "      <td>GBR</td>\n",
              "      <td>GBR</td>\n",
              "      <td>GBR</td>\n",
              "      <td>GBR</td>\n",
              "      <td>PRT</td>\n",
              "      <td>PRT</td>\n",
              "      <td>PRT</td>\n",
              "      <td>PRT</td>\n",
              "      <td>...</td>\n",
              "      <td>DEU</td>\n",
              "      <td>DEU</td>\n",
              "      <td>JPN</td>\n",
              "      <td>DEU</td>\n",
              "      <td>BEL</td>\n",
              "      <td>BEL</td>\n",
              "      <td>FRA</td>\n",
              "      <td>DEU</td>\n",
              "      <td>GBR</td>\n",
              "      <td>DEU</td>\n",
              "    </tr>\n",
              "    <tr>\n",
              "      <th>market_segment</th>\n",
              "      <td>Direct</td>\n",
              "      <td>Direct</td>\n",
              "      <td>Direct</td>\n",
              "      <td>Corporate</td>\n",
              "      <td>Online TA</td>\n",
              "      <td>Online TA</td>\n",
              "      <td>Direct</td>\n",
              "      <td>Direct</td>\n",
              "      <td>Online TA</td>\n",
              "      <td>Offline TA/TO</td>\n",
              "      <td>...</td>\n",
              "      <td>Online TA</td>\n",
              "      <td>Direct</td>\n",
              "      <td>Online TA</td>\n",
              "      <td>Offline TA/TO</td>\n",
              "      <td>Offline TA/TO</td>\n",
              "      <td>Offline TA/TO</td>\n",
              "      <td>Online TA</td>\n",
              "      <td>Online TA</td>\n",
              "      <td>Online TA</td>\n",
              "      <td>Online TA</td>\n",
              "    </tr>\n",
              "    <tr>\n",
              "      <th>distribution_channel</th>\n",
              "      <td>Direct</td>\n",
              "      <td>Direct</td>\n",
              "      <td>Direct</td>\n",
              "      <td>Corporate</td>\n",
              "      <td>TA/TO</td>\n",
              "      <td>TA/TO</td>\n",
              "      <td>Direct</td>\n",
              "      <td>Direct</td>\n",
              "      <td>TA/TO</td>\n",
              "      <td>TA/TO</td>\n",
              "      <td>...</td>\n",
              "      <td>TA/TO</td>\n",
              "      <td>Direct</td>\n",
              "      <td>TA/TO</td>\n",
              "      <td>TA/TO</td>\n",
              "      <td>TA/TO</td>\n",
              "      <td>TA/TO</td>\n",
              "      <td>TA/TO</td>\n",
              "      <td>TA/TO</td>\n",
              "      <td>TA/TO</td>\n",
              "      <td>TA/TO</td>\n",
              "    </tr>\n",
              "    <tr>\n",
              "      <th>is_repeated_guest</th>\n",
              "      <td>0</td>\n",
              "      <td>0</td>\n",
              "      <td>0</td>\n",
              "      <td>0</td>\n",
              "      <td>0</td>\n",
              "      <td>0</td>\n",
              "      <td>0</td>\n",
              "      <td>0</td>\n",
              "      <td>0</td>\n",
              "      <td>0</td>\n",
              "      <td>...</td>\n",
              "      <td>0</td>\n",
              "      <td>0</td>\n",
              "      <td>0</td>\n",
              "      <td>0</td>\n",
              "      <td>0</td>\n",
              "      <td>0</td>\n",
              "      <td>0</td>\n",
              "      <td>0</td>\n",
              "      <td>0</td>\n",
              "      <td>0</td>\n",
              "    </tr>\n",
              "    <tr>\n",
              "      <th>previous_cancellations</th>\n",
              "      <td>0</td>\n",
              "      <td>0</td>\n",
              "      <td>0</td>\n",
              "      <td>0</td>\n",
              "      <td>0</td>\n",
              "      <td>0</td>\n",
              "      <td>0</td>\n",
              "      <td>0</td>\n",
              "      <td>0</td>\n",
              "      <td>0</td>\n",
              "      <td>...</td>\n",
              "      <td>0</td>\n",
              "      <td>0</td>\n",
              "      <td>0</td>\n",
              "      <td>0</td>\n",
              "      <td>0</td>\n",
              "      <td>0</td>\n",
              "      <td>0</td>\n",
              "      <td>0</td>\n",
              "      <td>0</td>\n",
              "      <td>0</td>\n",
              "    </tr>\n",
              "    <tr>\n",
              "      <th>previous_bookings_not_canceled</th>\n",
              "      <td>0</td>\n",
              "      <td>0</td>\n",
              "      <td>0</td>\n",
              "      <td>0</td>\n",
              "      <td>0</td>\n",
              "      <td>0</td>\n",
              "      <td>0</td>\n",
              "      <td>0</td>\n",
              "      <td>0</td>\n",
              "      <td>0</td>\n",
              "      <td>...</td>\n",
              "      <td>0</td>\n",
              "      <td>0</td>\n",
              "      <td>0</td>\n",
              "      <td>0</td>\n",
              "      <td>0</td>\n",
              "      <td>0</td>\n",
              "      <td>0</td>\n",
              "      <td>0</td>\n",
              "      <td>0</td>\n",
              "      <td>0</td>\n",
              "    </tr>\n",
              "    <tr>\n",
              "      <th>reserved_room_type</th>\n",
              "      <td>C</td>\n",
              "      <td>C</td>\n",
              "      <td>A</td>\n",
              "      <td>A</td>\n",
              "      <td>A</td>\n",
              "      <td>A</td>\n",
              "      <td>C</td>\n",
              "      <td>C</td>\n",
              "      <td>A</td>\n",
              "      <td>D</td>\n",
              "      <td>...</td>\n",
              "      <td>A</td>\n",
              "      <td>A</td>\n",
              "      <td>G</td>\n",
              "      <td>A</td>\n",
              "      <td>A</td>\n",
              "      <td>A</td>\n",
              "      <td>E</td>\n",
              "      <td>D</td>\n",
              "      <td>A</td>\n",
              "      <td>A</td>\n",
              "    </tr>\n",
              "    <tr>\n",
              "      <th>assigned_room_type</th>\n",
              "      <td>C</td>\n",
              "      <td>C</td>\n",
              "      <td>C</td>\n",
              "      <td>A</td>\n",
              "      <td>A</td>\n",
              "      <td>A</td>\n",
              "      <td>C</td>\n",
              "      <td>C</td>\n",
              "      <td>A</td>\n",
              "      <td>D</td>\n",
              "      <td>...</td>\n",
              "      <td>A</td>\n",
              "      <td>A</td>\n",
              "      <td>G</td>\n",
              "      <td>A</td>\n",
              "      <td>A</td>\n",
              "      <td>A</td>\n",
              "      <td>E</td>\n",
              "      <td>D</td>\n",
              "      <td>A</td>\n",
              "      <td>A</td>\n",
              "    </tr>\n",
              "    <tr>\n",
              "      <th>booking_changes</th>\n",
              "      <td>3</td>\n",
              "      <td>4</td>\n",
              "      <td>0</td>\n",
              "      <td>0</td>\n",
              "      <td>0</td>\n",
              "      <td>0</td>\n",
              "      <td>0</td>\n",
              "      <td>0</td>\n",
              "      <td>0</td>\n",
              "      <td>0</td>\n",
              "      <td>...</td>\n",
              "      <td>0</td>\n",
              "      <td>0</td>\n",
              "      <td>0</td>\n",
              "      <td>0</td>\n",
              "      <td>0</td>\n",
              "      <td>0</td>\n",
              "      <td>0</td>\n",
              "      <td>0</td>\n",
              "      <td>0</td>\n",
              "      <td>0</td>\n",
              "    </tr>\n",
              "    <tr>\n",
              "      <th>deposit_type</th>\n",
              "      <td>No Deposit</td>\n",
              "      <td>No Deposit</td>\n",
              "      <td>No Deposit</td>\n",
              "      <td>No Deposit</td>\n",
              "      <td>No Deposit</td>\n",
              "      <td>No Deposit</td>\n",
              "      <td>No Deposit</td>\n",
              "      <td>No Deposit</td>\n",
              "      <td>No Deposit</td>\n",
              "      <td>No Deposit</td>\n",
              "      <td>...</td>\n",
              "      <td>No Deposit</td>\n",
              "      <td>No Deposit</td>\n",
              "      <td>No Deposit</td>\n",
              "      <td>No Deposit</td>\n",
              "      <td>No Deposit</td>\n",
              "      <td>No Deposit</td>\n",
              "      <td>No Deposit</td>\n",
              "      <td>No Deposit</td>\n",
              "      <td>No Deposit</td>\n",
              "      <td>No Deposit</td>\n",
              "    </tr>\n",
              "    <tr>\n",
              "      <th>agent</th>\n",
              "      <td>NaN</td>\n",
              "      <td>NaN</td>\n",
              "      <td>NaN</td>\n",
              "      <td>304.0</td>\n",
              "      <td>240.0</td>\n",
              "      <td>240.0</td>\n",
              "      <td>NaN</td>\n",
              "      <td>303.0</td>\n",
              "      <td>240.0</td>\n",
              "      <td>15.0</td>\n",
              "      <td>...</td>\n",
              "      <td>9.0</td>\n",
              "      <td>14.0</td>\n",
              "      <td>7.0</td>\n",
              "      <td>42.0</td>\n",
              "      <td>394.0</td>\n",
              "      <td>394.0</td>\n",
              "      <td>9.0</td>\n",
              "      <td>9.0</td>\n",
              "      <td>89.0</td>\n",
              "      <td>9.0</td>\n",
              "    </tr>\n",
              "    <tr>\n",
              "      <th>company</th>\n",
              "      <td>NaN</td>\n",
              "      <td>NaN</td>\n",
              "      <td>NaN</td>\n",
              "      <td>NaN</td>\n",
              "      <td>NaN</td>\n",
              "      <td>NaN</td>\n",
              "      <td>NaN</td>\n",
              "      <td>NaN</td>\n",
              "      <td>NaN</td>\n",
              "      <td>NaN</td>\n",
              "      <td>...</td>\n",
              "      <td>NaN</td>\n",
              "      <td>NaN</td>\n",
              "      <td>NaN</td>\n",
              "      <td>NaN</td>\n",
              "      <td>NaN</td>\n",
              "      <td>NaN</td>\n",
              "      <td>NaN</td>\n",
              "      <td>NaN</td>\n",
              "      <td>NaN</td>\n",
              "      <td>NaN</td>\n",
              "    </tr>\n",
              "    <tr>\n",
              "      <th>days_in_waiting_list</th>\n",
              "      <td>0</td>\n",
              "      <td>0</td>\n",
              "      <td>0</td>\n",
              "      <td>0</td>\n",
              "      <td>0</td>\n",
              "      <td>0</td>\n",
              "      <td>0</td>\n",
              "      <td>0</td>\n",
              "      <td>0</td>\n",
              "      <td>0</td>\n",
              "      <td>...</td>\n",
              "      <td>0</td>\n",
              "      <td>0</td>\n",
              "      <td>0</td>\n",
              "      <td>0</td>\n",
              "      <td>0</td>\n",
              "      <td>0</td>\n",
              "      <td>0</td>\n",
              "      <td>0</td>\n",
              "      <td>0</td>\n",
              "      <td>0</td>\n",
              "    </tr>\n",
              "    <tr>\n",
              "      <th>customer_type</th>\n",
              "      <td>Transient</td>\n",
              "      <td>Transient</td>\n",
              "      <td>Transient</td>\n",
              "      <td>Transient</td>\n",
              "      <td>Transient</td>\n",
              "      <td>Transient</td>\n",
              "      <td>Transient</td>\n",
              "      <td>Transient</td>\n",
              "      <td>Transient</td>\n",
              "      <td>Transient</td>\n",
              "      <td>...</td>\n",
              "      <td>Transient</td>\n",
              "      <td>Transient</td>\n",
              "      <td>Transient</td>\n",
              "      <td>Transient</td>\n",
              "      <td>Transient</td>\n",
              "      <td>Transient</td>\n",
              "      <td>Transient</td>\n",
              "      <td>Transient</td>\n",
              "      <td>Transient</td>\n",
              "      <td>Transient</td>\n",
              "    </tr>\n",
              "    <tr>\n",
              "      <th>adr</th>\n",
              "      <td>0.0</td>\n",
              "      <td>0.0</td>\n",
              "      <td>75.0</td>\n",
              "      <td>75.0</td>\n",
              "      <td>98.0</td>\n",
              "      <td>98.0</td>\n",
              "      <td>107.0</td>\n",
              "      <td>103.0</td>\n",
              "      <td>82.0</td>\n",
              "      <td>105.5</td>\n",
              "      <td>...</td>\n",
              "      <td>140.75</td>\n",
              "      <td>99.0</td>\n",
              "      <td>209.0</td>\n",
              "      <td>87.6</td>\n",
              "      <td>96.14</td>\n",
              "      <td>96.14</td>\n",
              "      <td>225.43</td>\n",
              "      <td>157.71</td>\n",
              "      <td>104.4</td>\n",
              "      <td>151.2</td>\n",
              "    </tr>\n",
              "    <tr>\n",
              "      <th>required_car_parking_spaces</th>\n",
              "      <td>0</td>\n",
              "      <td>0</td>\n",
              "      <td>0</td>\n",
              "      <td>0</td>\n",
              "      <td>0</td>\n",
              "      <td>0</td>\n",
              "      <td>0</td>\n",
              "      <td>0</td>\n",
              "      <td>0</td>\n",
              "      <td>0</td>\n",
              "      <td>...</td>\n",
              "      <td>0</td>\n",
              "      <td>0</td>\n",
              "      <td>0</td>\n",
              "      <td>0</td>\n",
              "      <td>0</td>\n",
              "      <td>0</td>\n",
              "      <td>0</td>\n",
              "      <td>0</td>\n",
              "      <td>0</td>\n",
              "      <td>0</td>\n",
              "    </tr>\n",
              "    <tr>\n",
              "      <th>total_of_special_requests</th>\n",
              "      <td>0</td>\n",
              "      <td>0</td>\n",
              "      <td>0</td>\n",
              "      <td>0</td>\n",
              "      <td>1</td>\n",
              "      <td>1</td>\n",
              "      <td>0</td>\n",
              "      <td>1</td>\n",
              "      <td>1</td>\n",
              "      <td>0</td>\n",
              "      <td>...</td>\n",
              "      <td>1</td>\n",
              "      <td>0</td>\n",
              "      <td>0</td>\n",
              "      <td>0</td>\n",
              "      <td>2</td>\n",
              "      <td>0</td>\n",
              "      <td>2</td>\n",
              "      <td>4</td>\n",
              "      <td>0</td>\n",
              "      <td>2</td>\n",
              "    </tr>\n",
              "    <tr>\n",
              "      <th>reservation_status</th>\n",
              "      <td>Check-Out</td>\n",
              "      <td>Check-Out</td>\n",
              "      <td>Check-Out</td>\n",
              "      <td>Check-Out</td>\n",
              "      <td>Check-Out</td>\n",
              "      <td>Check-Out</td>\n",
              "      <td>Check-Out</td>\n",
              "      <td>Check-Out</td>\n",
              "      <td>Canceled</td>\n",
              "      <td>Canceled</td>\n",
              "      <td>...</td>\n",
              "      <td>Check-Out</td>\n",
              "      <td>Check-Out</td>\n",
              "      <td>Check-Out</td>\n",
              "      <td>Check-Out</td>\n",
              "      <td>Check-Out</td>\n",
              "      <td>Check-Out</td>\n",
              "      <td>Check-Out</td>\n",
              "      <td>Check-Out</td>\n",
              "      <td>Check-Out</td>\n",
              "      <td>Check-Out</td>\n",
              "    </tr>\n",
              "    <tr>\n",
              "      <th>reservation_status_date</th>\n",
              "      <td>2015-07-01</td>\n",
              "      <td>2015-07-01</td>\n",
              "      <td>2015-07-02</td>\n",
              "      <td>2015-07-02</td>\n",
              "      <td>2015-07-03</td>\n",
              "      <td>2015-07-03</td>\n",
              "      <td>2015-07-03</td>\n",
              "      <td>2015-07-03</td>\n",
              "      <td>2015-05-06</td>\n",
              "      <td>2015-04-22</td>\n",
              "      <td>...</td>\n",
              "      <td>2017-09-04</td>\n",
              "      <td>2017-09-05</td>\n",
              "      <td>2017-09-05</td>\n",
              "      <td>2017-09-06</td>\n",
              "      <td>2017-09-06</td>\n",
              "      <td>2017-09-06</td>\n",
              "      <td>2017-09-07</td>\n",
              "      <td>2017-09-07</td>\n",
              "      <td>2017-09-07</td>\n",
              "      <td>2017-09-07</td>\n",
              "    </tr>\n",
              "  </tbody>\n",
              "</table>\n",
              "<p>32 rows × 119390 columns</p>\n",
              "</div>\n",
              "      <button class=\"colab-df-convert\" onclick=\"convertToInteractive('df-2a032359-20c7-4260-b1bb-2c52bbd15480')\"\n",
              "              title=\"Convert this dataframe to an interactive table.\"\n",
              "              style=\"display:none;\">\n",
              "        \n",
              "  <svg xmlns=\"http://www.w3.org/2000/svg\" height=\"24px\"viewBox=\"0 0 24 24\"\n",
              "       width=\"24px\">\n",
              "    <path d=\"M0 0h24v24H0V0z\" fill=\"none\"/>\n",
              "    <path d=\"M18.56 5.44l.94 2.06.94-2.06 2.06-.94-2.06-.94-.94-2.06-.94 2.06-2.06.94zm-11 1L8.5 8.5l.94-2.06 2.06-.94-2.06-.94L8.5 2.5l-.94 2.06-2.06.94zm10 10l.94 2.06.94-2.06 2.06-.94-2.06-.94-.94-2.06-.94 2.06-2.06.94z\"/><path d=\"M17.41 7.96l-1.37-1.37c-.4-.4-.92-.59-1.43-.59-.52 0-1.04.2-1.43.59L10.3 9.45l-7.72 7.72c-.78.78-.78 2.05 0 2.83L4 21.41c.39.39.9.59 1.41.59.51 0 1.02-.2 1.41-.59l7.78-7.78 2.81-2.81c.8-.78.8-2.07 0-2.86zM5.41 20L4 18.59l7.72-7.72 1.47 1.35L5.41 20z\"/>\n",
              "  </svg>\n",
              "      </button>\n",
              "      \n",
              "  <style>\n",
              "    .colab-df-container {\n",
              "      display:flex;\n",
              "      flex-wrap:wrap;\n",
              "      gap: 12px;\n",
              "    }\n",
              "\n",
              "    .colab-df-convert {\n",
              "      background-color: #E8F0FE;\n",
              "      border: none;\n",
              "      border-radius: 50%;\n",
              "      cursor: pointer;\n",
              "      display: none;\n",
              "      fill: #1967D2;\n",
              "      height: 32px;\n",
              "      padding: 0 0 0 0;\n",
              "      width: 32px;\n",
              "    }\n",
              "\n",
              "    .colab-df-convert:hover {\n",
              "      background-color: #E2EBFA;\n",
              "      box-shadow: 0px 1px 2px rgba(60, 64, 67, 0.3), 0px 1px 3px 1px rgba(60, 64, 67, 0.15);\n",
              "      fill: #174EA6;\n",
              "    }\n",
              "\n",
              "    [theme=dark] .colab-df-convert {\n",
              "      background-color: #3B4455;\n",
              "      fill: #D2E3FC;\n",
              "    }\n",
              "\n",
              "    [theme=dark] .colab-df-convert:hover {\n",
              "      background-color: #434B5C;\n",
              "      box-shadow: 0px 1px 3px 1px rgba(0, 0, 0, 0.15);\n",
              "      filter: drop-shadow(0px 1px 2px rgba(0, 0, 0, 0.3));\n",
              "      fill: #FFFFFF;\n",
              "    }\n",
              "  </style>\n",
              "\n",
              "      <script>\n",
              "        const buttonEl =\n",
              "          document.querySelector('#df-2a032359-20c7-4260-b1bb-2c52bbd15480 button.colab-df-convert');\n",
              "        buttonEl.style.display =\n",
              "          google.colab.kernel.accessAllowed ? 'block' : 'none';\n",
              "\n",
              "        async function convertToInteractive(key) {\n",
              "          const element = document.querySelector('#df-2a032359-20c7-4260-b1bb-2c52bbd15480');\n",
              "          const dataTable =\n",
              "            await google.colab.kernel.invokeFunction('convertToInteractive',\n",
              "                                                     [key], {});\n",
              "          if (!dataTable) return;\n",
              "\n",
              "          const docLinkHtml = 'Like what you see? Visit the ' +\n",
              "            '<a target=\"_blank\" href=https://colab.research.google.com/notebooks/data_table.ipynb>data table notebook</a>'\n",
              "            + ' to learn more about interactive tables.';\n",
              "          element.innerHTML = '';\n",
              "          dataTable['output_type'] = 'display_data';\n",
              "          await google.colab.output.renderOutput(dataTable, element);\n",
              "          const docLink = document.createElement('div');\n",
              "          docLink.innerHTML = docLinkHtml;\n",
              "          element.appendChild(docLink);\n",
              "        }\n",
              "      </script>\n",
              "    </div>\n",
              "  </div>\n",
              "  "
            ]
          },
          "metadata": {},
          "execution_count": 5
        }
      ]
    },
    {
      "cell_type": "code",
      "source": [
        "# NUMBERS OF COLUMNS AND NUMBERS OF ROWS\n",
        "\n",
        "df.shape"
      ],
      "metadata": {
        "colab": {
          "base_uri": "https://localhost:8080/"
        },
        "id": "vBO1aawMj5fE",
        "outputId": "d3c060a7-eea7-4c60-c9c8-dc579f5772b9"
      },
      "execution_count": null,
      "outputs": [
        {
          "output_type": "execute_result",
          "data": {
            "text/plain": [
              "(119390, 32)"
            ]
          },
          "metadata": {},
          "execution_count": 6
        }
      ]
    },
    {
      "cell_type": "code",
      "source": [
        "# COLUMNS NAME\n",
        "\n",
        "col_name = df.columns\n",
        "col_name "
      ],
      "metadata": {
        "colab": {
          "base_uri": "https://localhost:8080/"
        },
        "id": "WqUriGpui4f7",
        "outputId": "b87a6ae4-4029-44e4-904b-1b964ce663a3"
      },
      "execution_count": null,
      "outputs": [
        {
          "output_type": "execute_result",
          "data": {
            "text/plain": [
              "Index(['hotel', 'is_canceled', 'lead_time', 'arrival_date_year',\n",
              "       'arrival_date_month', 'arrival_date_week_number',\n",
              "       'arrival_date_day_of_month', 'stays_in_weekend_nights',\n",
              "       'stays_in_week_nights', 'adults', 'children', 'babies', 'meal',\n",
              "       'country', 'market_segment', 'distribution_channel',\n",
              "       'is_repeated_guest', 'previous_cancellations',\n",
              "       'previous_bookings_not_canceled', 'reserved_room_type',\n",
              "       'assigned_room_type', 'booking_changes', 'deposit_type', 'agent',\n",
              "       'company', 'days_in_waiting_list', 'customer_type', 'adr',\n",
              "       'required_car_parking_spaces', 'total_of_special_requests',\n",
              "       'reservation_status', 'reservation_status_date'],\n",
              "      dtype='object')"
            ]
          },
          "metadata": {},
          "execution_count": 7
        }
      ]
    },
    {
      "cell_type": "code",
      "source": [
        "# DATA FRAME INFO\n",
        "\n",
        "df.info()"
      ],
      "metadata": {
        "colab": {
          "base_uri": "https://localhost:8080/"
        },
        "id": "jEEfQGDJkb3N",
        "outputId": "d1a01fa4-9c92-4d38-ba5e-01f3c87290ca"
      },
      "execution_count": null,
      "outputs": [
        {
          "output_type": "stream",
          "name": "stdout",
          "text": [
            "<class 'pandas.core.frame.DataFrame'>\n",
            "RangeIndex: 119390 entries, 0 to 119389\n",
            "Data columns (total 32 columns):\n",
            " #   Column                          Non-Null Count   Dtype  \n",
            "---  ------                          --------------   -----  \n",
            " 0   hotel                           119390 non-null  object \n",
            " 1   is_canceled                     119390 non-null  int64  \n",
            " 2   lead_time                       119390 non-null  int64  \n",
            " 3   arrival_date_year               119390 non-null  int64  \n",
            " 4   arrival_date_month              119390 non-null  object \n",
            " 5   arrival_date_week_number        119390 non-null  int64  \n",
            " 6   arrival_date_day_of_month       119390 non-null  int64  \n",
            " 7   stays_in_weekend_nights         119390 non-null  int64  \n",
            " 8   stays_in_week_nights            119390 non-null  int64  \n",
            " 9   adults                          119390 non-null  int64  \n",
            " 10  children                        119386 non-null  float64\n",
            " 11  babies                          119390 non-null  int64  \n",
            " 12  meal                            119390 non-null  object \n",
            " 13  country                         118902 non-null  object \n",
            " 14  market_segment                  119390 non-null  object \n",
            " 15  distribution_channel            119390 non-null  object \n",
            " 16  is_repeated_guest               119390 non-null  int64  \n",
            " 17  previous_cancellations          119390 non-null  int64  \n",
            " 18  previous_bookings_not_canceled  119390 non-null  int64  \n",
            " 19  reserved_room_type              119390 non-null  object \n",
            " 20  assigned_room_type              119390 non-null  object \n",
            " 21  booking_changes                 119390 non-null  int64  \n",
            " 22  deposit_type                    119390 non-null  object \n",
            " 23  agent                           103050 non-null  float64\n",
            " 24  company                         6797 non-null    float64\n",
            " 25  days_in_waiting_list            119390 non-null  int64  \n",
            " 26  customer_type                   119390 non-null  object \n",
            " 27  adr                             119390 non-null  float64\n",
            " 28  required_car_parking_spaces     119390 non-null  int64  \n",
            " 29  total_of_special_requests       119390 non-null  int64  \n",
            " 30  reservation_status              119390 non-null  object \n",
            " 31  reservation_status_date         119390 non-null  object \n",
            "dtypes: float64(4), int64(16), object(12)\n",
            "memory usage: 29.1+ MB\n"
          ]
        }
      ]
    },
    {
      "cell_type": "code",
      "source": [
        "# STATISTICS INFORMATION OF NUMERICAL COLUMNS FROM THE DATA FRAME\n",
        "\n",
        "df.describe()"
      ],
      "metadata": {
        "colab": {
          "base_uri": "https://localhost:8080/",
          "height": 364
        },
        "id": "lkp6kGIxlCto",
        "outputId": "f65fcbe7-5b47-4547-d767-19aee05b4391"
      },
      "execution_count": null,
      "outputs": [
        {
          "output_type": "execute_result",
          "data": {
            "text/plain": [
              "         is_canceled      lead_time  arrival_date_year  \\\n",
              "count  119390.000000  119390.000000      119390.000000   \n",
              "mean        0.370416     104.011416        2016.156554   \n",
              "std         0.482918     106.863097           0.707476   \n",
              "min         0.000000       0.000000        2015.000000   \n",
              "25%         0.000000      18.000000        2016.000000   \n",
              "50%         0.000000      69.000000        2016.000000   \n",
              "75%         1.000000     160.000000        2017.000000   \n",
              "max         1.000000     737.000000        2017.000000   \n",
              "\n",
              "       arrival_date_week_number  arrival_date_day_of_month  \\\n",
              "count             119390.000000              119390.000000   \n",
              "mean                  27.165173                  15.798241   \n",
              "std                   13.605138                   8.780829   \n",
              "min                    1.000000                   1.000000   \n",
              "25%                   16.000000                   8.000000   \n",
              "50%                   28.000000                  16.000000   \n",
              "75%                   38.000000                  23.000000   \n",
              "max                   53.000000                  31.000000   \n",
              "\n",
              "       stays_in_weekend_nights  stays_in_week_nights         adults  \\\n",
              "count            119390.000000         119390.000000  119390.000000   \n",
              "mean                  0.927599              2.500302       1.856403   \n",
              "std                   0.998613              1.908286       0.579261   \n",
              "min                   0.000000              0.000000       0.000000   \n",
              "25%                   0.000000              1.000000       2.000000   \n",
              "50%                   1.000000              2.000000       2.000000   \n",
              "75%                   2.000000              3.000000       2.000000   \n",
              "max                  19.000000             50.000000      55.000000   \n",
              "\n",
              "            children         babies  is_repeated_guest  \\\n",
              "count  119386.000000  119390.000000      119390.000000   \n",
              "mean        0.103890       0.007949           0.031912   \n",
              "std         0.398561       0.097436           0.175767   \n",
              "min         0.000000       0.000000           0.000000   \n",
              "25%         0.000000       0.000000           0.000000   \n",
              "50%         0.000000       0.000000           0.000000   \n",
              "75%         0.000000       0.000000           0.000000   \n",
              "max        10.000000      10.000000           1.000000   \n",
              "\n",
              "       previous_cancellations  previous_bookings_not_canceled  \\\n",
              "count           119390.000000                   119390.000000   \n",
              "mean                 0.087118                        0.137097   \n",
              "std                  0.844336                        1.497437   \n",
              "min                  0.000000                        0.000000   \n",
              "25%                  0.000000                        0.000000   \n",
              "50%                  0.000000                        0.000000   \n",
              "75%                  0.000000                        0.000000   \n",
              "max                 26.000000                       72.000000   \n",
              "\n",
              "       booking_changes          agent      company  days_in_waiting_list  \\\n",
              "count    119390.000000  103050.000000  6797.000000         119390.000000   \n",
              "mean          0.221124      86.693382   189.266735              2.321149   \n",
              "std           0.652306     110.774548   131.655015             17.594721   \n",
              "min           0.000000       1.000000     6.000000              0.000000   \n",
              "25%           0.000000       9.000000    62.000000              0.000000   \n",
              "50%           0.000000      14.000000   179.000000              0.000000   \n",
              "75%           0.000000     229.000000   270.000000              0.000000   \n",
              "max          21.000000     535.000000   543.000000            391.000000   \n",
              "\n",
              "                 adr  required_car_parking_spaces  total_of_special_requests  \n",
              "count  119390.000000                119390.000000              119390.000000  \n",
              "mean      101.831122                     0.062518                   0.571363  \n",
              "std        50.535790                     0.245291                   0.792798  \n",
              "min        -6.380000                     0.000000                   0.000000  \n",
              "25%        69.290000                     0.000000                   0.000000  \n",
              "50%        94.575000                     0.000000                   0.000000  \n",
              "75%       126.000000                     0.000000                   1.000000  \n",
              "max      5400.000000                     8.000000                   5.000000  "
            ],
            "text/html": [
              "\n",
              "  <div id=\"df-ef7f8e10-c7f0-43ed-aa8e-4bfe5fb5464c\">\n",
              "    <div class=\"colab-df-container\">\n",
              "      <div>\n",
              "<style scoped>\n",
              "    .dataframe tbody tr th:only-of-type {\n",
              "        vertical-align: middle;\n",
              "    }\n",
              "\n",
              "    .dataframe tbody tr th {\n",
              "        vertical-align: top;\n",
              "    }\n",
              "\n",
              "    .dataframe thead th {\n",
              "        text-align: right;\n",
              "    }\n",
              "</style>\n",
              "<table border=\"1\" class=\"dataframe\">\n",
              "  <thead>\n",
              "    <tr style=\"text-align: right;\">\n",
              "      <th></th>\n",
              "      <th>is_canceled</th>\n",
              "      <th>lead_time</th>\n",
              "      <th>arrival_date_year</th>\n",
              "      <th>arrival_date_week_number</th>\n",
              "      <th>arrival_date_day_of_month</th>\n",
              "      <th>stays_in_weekend_nights</th>\n",
              "      <th>stays_in_week_nights</th>\n",
              "      <th>adults</th>\n",
              "      <th>children</th>\n",
              "      <th>babies</th>\n",
              "      <th>is_repeated_guest</th>\n",
              "      <th>previous_cancellations</th>\n",
              "      <th>previous_bookings_not_canceled</th>\n",
              "      <th>booking_changes</th>\n",
              "      <th>agent</th>\n",
              "      <th>company</th>\n",
              "      <th>days_in_waiting_list</th>\n",
              "      <th>adr</th>\n",
              "      <th>required_car_parking_spaces</th>\n",
              "      <th>total_of_special_requests</th>\n",
              "    </tr>\n",
              "  </thead>\n",
              "  <tbody>\n",
              "    <tr>\n",
              "      <th>count</th>\n",
              "      <td>119390.000000</td>\n",
              "      <td>119390.000000</td>\n",
              "      <td>119390.000000</td>\n",
              "      <td>119390.000000</td>\n",
              "      <td>119390.000000</td>\n",
              "      <td>119390.000000</td>\n",
              "      <td>119390.000000</td>\n",
              "      <td>119390.000000</td>\n",
              "      <td>119386.000000</td>\n",
              "      <td>119390.000000</td>\n",
              "      <td>119390.000000</td>\n",
              "      <td>119390.000000</td>\n",
              "      <td>119390.000000</td>\n",
              "      <td>119390.000000</td>\n",
              "      <td>103050.000000</td>\n",
              "      <td>6797.000000</td>\n",
              "      <td>119390.000000</td>\n",
              "      <td>119390.000000</td>\n",
              "      <td>119390.000000</td>\n",
              "      <td>119390.000000</td>\n",
              "    </tr>\n",
              "    <tr>\n",
              "      <th>mean</th>\n",
              "      <td>0.370416</td>\n",
              "      <td>104.011416</td>\n",
              "      <td>2016.156554</td>\n",
              "      <td>27.165173</td>\n",
              "      <td>15.798241</td>\n",
              "      <td>0.927599</td>\n",
              "      <td>2.500302</td>\n",
              "      <td>1.856403</td>\n",
              "      <td>0.103890</td>\n",
              "      <td>0.007949</td>\n",
              "      <td>0.031912</td>\n",
              "      <td>0.087118</td>\n",
              "      <td>0.137097</td>\n",
              "      <td>0.221124</td>\n",
              "      <td>86.693382</td>\n",
              "      <td>189.266735</td>\n",
              "      <td>2.321149</td>\n",
              "      <td>101.831122</td>\n",
              "      <td>0.062518</td>\n",
              "      <td>0.571363</td>\n",
              "    </tr>\n",
              "    <tr>\n",
              "      <th>std</th>\n",
              "      <td>0.482918</td>\n",
              "      <td>106.863097</td>\n",
              "      <td>0.707476</td>\n",
              "      <td>13.605138</td>\n",
              "      <td>8.780829</td>\n",
              "      <td>0.998613</td>\n",
              "      <td>1.908286</td>\n",
              "      <td>0.579261</td>\n",
              "      <td>0.398561</td>\n",
              "      <td>0.097436</td>\n",
              "      <td>0.175767</td>\n",
              "      <td>0.844336</td>\n",
              "      <td>1.497437</td>\n",
              "      <td>0.652306</td>\n",
              "      <td>110.774548</td>\n",
              "      <td>131.655015</td>\n",
              "      <td>17.594721</td>\n",
              "      <td>50.535790</td>\n",
              "      <td>0.245291</td>\n",
              "      <td>0.792798</td>\n",
              "    </tr>\n",
              "    <tr>\n",
              "      <th>min</th>\n",
              "      <td>0.000000</td>\n",
              "      <td>0.000000</td>\n",
              "      <td>2015.000000</td>\n",
              "      <td>1.000000</td>\n",
              "      <td>1.000000</td>\n",
              "      <td>0.000000</td>\n",
              "      <td>0.000000</td>\n",
              "      <td>0.000000</td>\n",
              "      <td>0.000000</td>\n",
              "      <td>0.000000</td>\n",
              "      <td>0.000000</td>\n",
              "      <td>0.000000</td>\n",
              "      <td>0.000000</td>\n",
              "      <td>0.000000</td>\n",
              "      <td>1.000000</td>\n",
              "      <td>6.000000</td>\n",
              "      <td>0.000000</td>\n",
              "      <td>-6.380000</td>\n",
              "      <td>0.000000</td>\n",
              "      <td>0.000000</td>\n",
              "    </tr>\n",
              "    <tr>\n",
              "      <th>25%</th>\n",
              "      <td>0.000000</td>\n",
              "      <td>18.000000</td>\n",
              "      <td>2016.000000</td>\n",
              "      <td>16.000000</td>\n",
              "      <td>8.000000</td>\n",
              "      <td>0.000000</td>\n",
              "      <td>1.000000</td>\n",
              "      <td>2.000000</td>\n",
              "      <td>0.000000</td>\n",
              "      <td>0.000000</td>\n",
              "      <td>0.000000</td>\n",
              "      <td>0.000000</td>\n",
              "      <td>0.000000</td>\n",
              "      <td>0.000000</td>\n",
              "      <td>9.000000</td>\n",
              "      <td>62.000000</td>\n",
              "      <td>0.000000</td>\n",
              "      <td>69.290000</td>\n",
              "      <td>0.000000</td>\n",
              "      <td>0.000000</td>\n",
              "    </tr>\n",
              "    <tr>\n",
              "      <th>50%</th>\n",
              "      <td>0.000000</td>\n",
              "      <td>69.000000</td>\n",
              "      <td>2016.000000</td>\n",
              "      <td>28.000000</td>\n",
              "      <td>16.000000</td>\n",
              "      <td>1.000000</td>\n",
              "      <td>2.000000</td>\n",
              "      <td>2.000000</td>\n",
              "      <td>0.000000</td>\n",
              "      <td>0.000000</td>\n",
              "      <td>0.000000</td>\n",
              "      <td>0.000000</td>\n",
              "      <td>0.000000</td>\n",
              "      <td>0.000000</td>\n",
              "      <td>14.000000</td>\n",
              "      <td>179.000000</td>\n",
              "      <td>0.000000</td>\n",
              "      <td>94.575000</td>\n",
              "      <td>0.000000</td>\n",
              "      <td>0.000000</td>\n",
              "    </tr>\n",
              "    <tr>\n",
              "      <th>75%</th>\n",
              "      <td>1.000000</td>\n",
              "      <td>160.000000</td>\n",
              "      <td>2017.000000</td>\n",
              "      <td>38.000000</td>\n",
              "      <td>23.000000</td>\n",
              "      <td>2.000000</td>\n",
              "      <td>3.000000</td>\n",
              "      <td>2.000000</td>\n",
              "      <td>0.000000</td>\n",
              "      <td>0.000000</td>\n",
              "      <td>0.000000</td>\n",
              "      <td>0.000000</td>\n",
              "      <td>0.000000</td>\n",
              "      <td>0.000000</td>\n",
              "      <td>229.000000</td>\n",
              "      <td>270.000000</td>\n",
              "      <td>0.000000</td>\n",
              "      <td>126.000000</td>\n",
              "      <td>0.000000</td>\n",
              "      <td>1.000000</td>\n",
              "    </tr>\n",
              "    <tr>\n",
              "      <th>max</th>\n",
              "      <td>1.000000</td>\n",
              "      <td>737.000000</td>\n",
              "      <td>2017.000000</td>\n",
              "      <td>53.000000</td>\n",
              "      <td>31.000000</td>\n",
              "      <td>19.000000</td>\n",
              "      <td>50.000000</td>\n",
              "      <td>55.000000</td>\n",
              "      <td>10.000000</td>\n",
              "      <td>10.000000</td>\n",
              "      <td>1.000000</td>\n",
              "      <td>26.000000</td>\n",
              "      <td>72.000000</td>\n",
              "      <td>21.000000</td>\n",
              "      <td>535.000000</td>\n",
              "      <td>543.000000</td>\n",
              "      <td>391.000000</td>\n",
              "      <td>5400.000000</td>\n",
              "      <td>8.000000</td>\n",
              "      <td>5.000000</td>\n",
              "    </tr>\n",
              "  </tbody>\n",
              "</table>\n",
              "</div>\n",
              "      <button class=\"colab-df-convert\" onclick=\"convertToInteractive('df-ef7f8e10-c7f0-43ed-aa8e-4bfe5fb5464c')\"\n",
              "              title=\"Convert this dataframe to an interactive table.\"\n",
              "              style=\"display:none;\">\n",
              "        \n",
              "  <svg xmlns=\"http://www.w3.org/2000/svg\" height=\"24px\"viewBox=\"0 0 24 24\"\n",
              "       width=\"24px\">\n",
              "    <path d=\"M0 0h24v24H0V0z\" fill=\"none\"/>\n",
              "    <path d=\"M18.56 5.44l.94 2.06.94-2.06 2.06-.94-2.06-.94-.94-2.06-.94 2.06-2.06.94zm-11 1L8.5 8.5l.94-2.06 2.06-.94-2.06-.94L8.5 2.5l-.94 2.06-2.06.94zm10 10l.94 2.06.94-2.06 2.06-.94-2.06-.94-.94-2.06-.94 2.06-2.06.94z\"/><path d=\"M17.41 7.96l-1.37-1.37c-.4-.4-.92-.59-1.43-.59-.52 0-1.04.2-1.43.59L10.3 9.45l-7.72 7.72c-.78.78-.78 2.05 0 2.83L4 21.41c.39.39.9.59 1.41.59.51 0 1.02-.2 1.41-.59l7.78-7.78 2.81-2.81c.8-.78.8-2.07 0-2.86zM5.41 20L4 18.59l7.72-7.72 1.47 1.35L5.41 20z\"/>\n",
              "  </svg>\n",
              "      </button>\n",
              "      \n",
              "  <style>\n",
              "    .colab-df-container {\n",
              "      display:flex;\n",
              "      flex-wrap:wrap;\n",
              "      gap: 12px;\n",
              "    }\n",
              "\n",
              "    .colab-df-convert {\n",
              "      background-color: #E8F0FE;\n",
              "      border: none;\n",
              "      border-radius: 50%;\n",
              "      cursor: pointer;\n",
              "      display: none;\n",
              "      fill: #1967D2;\n",
              "      height: 32px;\n",
              "      padding: 0 0 0 0;\n",
              "      width: 32px;\n",
              "    }\n",
              "\n",
              "    .colab-df-convert:hover {\n",
              "      background-color: #E2EBFA;\n",
              "      box-shadow: 0px 1px 2px rgba(60, 64, 67, 0.3), 0px 1px 3px 1px rgba(60, 64, 67, 0.15);\n",
              "      fill: #174EA6;\n",
              "    }\n",
              "\n",
              "    [theme=dark] .colab-df-convert {\n",
              "      background-color: #3B4455;\n",
              "      fill: #D2E3FC;\n",
              "    }\n",
              "\n",
              "    [theme=dark] .colab-df-convert:hover {\n",
              "      background-color: #434B5C;\n",
              "      box-shadow: 0px 1px 3px 1px rgba(0, 0, 0, 0.15);\n",
              "      filter: drop-shadow(0px 1px 2px rgba(0, 0, 0, 0.3));\n",
              "      fill: #FFFFFF;\n",
              "    }\n",
              "  </style>\n",
              "\n",
              "      <script>\n",
              "        const buttonEl =\n",
              "          document.querySelector('#df-ef7f8e10-c7f0-43ed-aa8e-4bfe5fb5464c button.colab-df-convert');\n",
              "        buttonEl.style.display =\n",
              "          google.colab.kernel.accessAllowed ? 'block' : 'none';\n",
              "\n",
              "        async function convertToInteractive(key) {\n",
              "          const element = document.querySelector('#df-ef7f8e10-c7f0-43ed-aa8e-4bfe5fb5464c');\n",
              "          const dataTable =\n",
              "            await google.colab.kernel.invokeFunction('convertToInteractive',\n",
              "                                                     [key], {});\n",
              "          if (!dataTable) return;\n",
              "\n",
              "          const docLinkHtml = 'Like what you see? Visit the ' +\n",
              "            '<a target=\"_blank\" href=https://colab.research.google.com/notebooks/data_table.ipynb>data table notebook</a>'\n",
              "            + ' to learn more about interactive tables.';\n",
              "          element.innerHTML = '';\n",
              "          dataTable['output_type'] = 'display_data';\n",
              "          await google.colab.output.renderOutput(dataTable, element);\n",
              "          const docLink = document.createElement('div');\n",
              "          docLink.innerHTML = docLinkHtml;\n",
              "          element.appendChild(docLink);\n",
              "        }\n",
              "      </script>\n",
              "    </div>\n",
              "  </div>\n",
              "  "
            ]
          },
          "metadata": {},
          "execution_count": 9
        }
      ]
    },
    {
      "cell_type": "code",
      "source": [
        "# TOTAL NUMBER OF MISSING VALUE IN THE DATA FRAME(DF)\n",
        "\n",
        "total_missing_value = sum(pd.to_numeric(df.isnull().sum()))\n",
        "total_missing_value"
      ],
      "metadata": {
        "colab": {
          "base_uri": "https://localhost:8080/"
        },
        "id": "mBVbH4eBhyOm",
        "outputId": "16ac2736-8487-457f-959a-28b8b570ac60"
      },
      "execution_count": null,
      "outputs": [
        {
          "output_type": "execute_result",
          "data": {
            "text/plain": [
              "129425"
            ]
          },
          "metadata": {},
          "execution_count": 10
        }
      ]
    },
    {
      "cell_type": "code",
      "source": [
        "# PERCENTAGE OF MISSING VALUE IN DATA FRAME\n",
        "\n",
        "percentage_of_missing_value = round((total_missing_value/(len(df) * len(df.columns)))*100, 2)\n",
        "percentage_of_missing_value"
      ],
      "metadata": {
        "id": "gSJbySSPhxk-",
        "colab": {
          "base_uri": "https://localhost:8080/"
        },
        "outputId": "29100d19-d712-4701-b55c-276e412b8f87"
      },
      "execution_count": null,
      "outputs": [
        {
          "output_type": "execute_result",
          "data": {
            "text/plain": [
              "3.39"
            ]
          },
          "metadata": {},
          "execution_count": 11
        }
      ]
    },
    {
      "cell_type": "markdown",
      "source": [
        "## DATA CLEANING "
      ],
      "metadata": {
        "id": "GsmPGv6opuxK"
      }
    },
    {
      "cell_type": "code",
      "source": [
        "# WHICH COLUMN HAVE MISSING VALUES\n",
        "\n",
        "df.isna().any()[lambda x: x].index.tolist()"
      ],
      "metadata": {
        "id": "DUuzuH-niJJg",
        "colab": {
          "base_uri": "https://localhost:8080/"
        },
        "outputId": "b730bd6c-34a4-4258-cece-1147b5db68f1"
      },
      "execution_count": null,
      "outputs": [
        {
          "output_type": "execute_result",
          "data": {
            "text/plain": [
              "['children', 'country', 'agent', 'company']"
            ]
          },
          "metadata": {},
          "execution_count": 12
        }
      ]
    },
    {
      "cell_type": "code",
      "source": [
        "# NUMBER OF NULL VALUE IN EACH COLUMN\n",
        "\n",
        "df.isnull().sum()"
      ],
      "metadata": {
        "colab": {
          "base_uri": "https://localhost:8080/"
        },
        "id": "igfmrNL4oMLL",
        "outputId": "a2ad432e-e1bb-4c77-ba15-7f0cb71be424"
      },
      "execution_count": null,
      "outputs": [
        {
          "output_type": "execute_result",
          "data": {
            "text/plain": [
              "hotel                                  0\n",
              "is_canceled                            0\n",
              "lead_time                              0\n",
              "arrival_date_year                      0\n",
              "arrival_date_month                     0\n",
              "arrival_date_week_number               0\n",
              "arrival_date_day_of_month              0\n",
              "stays_in_weekend_nights                0\n",
              "stays_in_week_nights                   0\n",
              "adults                                 0\n",
              "children                               4\n",
              "babies                                 0\n",
              "meal                                   0\n",
              "country                              488\n",
              "market_segment                         0\n",
              "distribution_channel                   0\n",
              "is_repeated_guest                      0\n",
              "previous_cancellations                 0\n",
              "previous_bookings_not_canceled         0\n",
              "reserved_room_type                     0\n",
              "assigned_room_type                     0\n",
              "booking_changes                        0\n",
              "deposit_type                           0\n",
              "agent                              16340\n",
              "company                           112593\n",
              "days_in_waiting_list                   0\n",
              "customer_type                          0\n",
              "adr                                    0\n",
              "required_car_parking_spaces            0\n",
              "total_of_special_requests              0\n",
              "reservation_status                     0\n",
              "reservation_status_date                0\n",
              "dtype: int64"
            ]
          },
          "metadata": {},
          "execution_count": 13
        }
      ]
    },
    {
      "cell_type": "markdown",
      "source": [
        "\n",
        "**THESE ARE THE COLUMNS WHICH HAVE NULL VALUES:**\n",
        "\n",
        "1.   children\n",
        "2.   country\n",
        "3.   agent\n",
        "4.   company\n",
        "\n"
      ],
      "metadata": {
        "id": "oROGBrVPr_B9"
      }
    },
    {
      "cell_type": "code",
      "source": [
        "miss_val = df.isna().any()[lambda x: x].index.tolist()"
      ],
      "metadata": {
        "id": "CpApr8hDg6YX"
      },
      "execution_count": null,
      "outputs": []
    },
    {
      "cell_type": "code",
      "source": [
        "col_miss_v = df[miss_val]"
      ],
      "metadata": {
        "id": "LmYSPakuhG-_"
      },
      "execution_count": null,
      "outputs": []
    },
    {
      "cell_type": "code",
      "source": [
        "# HEATMAP SHOWING MISSING VALUE WITH COLUMN WHICH HAVE MISSING COLUMN\n",
        "\n",
        "plt.figure(figsize = (11,5))\n",
        "sns.heatmap(df.isnull(), cbar=False)\n",
        "plt.title(\"HEATMAP OF MISSING VALUE OF DATA FRAME (DF)\")\n",
        "plt.show()"
      ],
      "metadata": {
        "id": "sQHzeib0kPu5",
        "colab": {
          "base_uri": "https://localhost:8080/",
          "height": 489
        },
        "outputId": "121c9201-ca90-4111-cc99-a3546487f8e2"
      },
      "execution_count": null,
      "outputs": [
        {
          "output_type": "display_data",
          "data": {
            "text/plain": [
              "<Figure size 792x360 with 1 Axes>"
            ],
            "image/png": "[encoded data removed]"
          },
          "metadata": {
            "needs_background": "light"
          }
        }
      ]
    },
    {
      "cell_type": "code",
      "source": [
        "plt.figure(figsize = (11,5))\n",
        "sns.heatmap(col_miss_v.isnull(), cbar=False)\n",
        "plt.title(\"HEATMAP OF MISSING VALUE WITH COLUMN WHICH HAVE MISSING VALUE\")\n",
        "plt.show()"
      ],
      "metadata": {
        "id": "3rWLU4suhXzV",
        "colab": {
          "base_uri": "https://localhost:8080/",
          "height": 336
        },
        "outputId": "0569c60a-a6ec-400c-be72-6f76a11e8e6a"
      },
      "execution_count": null,
      "outputs": [
        {
          "output_type": "display_data",
          "data": {
            "text/plain": [
              "<Figure size 792x360 with 1 Axes>"
            ],
            "image/png": "[encoded data removed]"
          },
          "metadata": {
            "needs_background": "light"
          }
        }
      ]
    },
    {
      "cell_type": "code",
      "source": [
        "# COVERTING ALL THE NULL VALUES TO 0 IN THE DATA FARME\n",
        "\n",
        "df = df.fillna(0)"
      ],
      "metadata": {
        "id": "N9aEBcwPr9lL"
      },
      "execution_count": null,
      "outputs": []
    },
    {
      "cell_type": "code",
      "source": [
        "# VERIFYING THE TOTAL NUMBERS OF NULL VALUES STILL PRESENT IN THE DATA FRAME\n",
        "\n",
        "df.isnull().sum()"
      ],
      "metadata": {
        "colab": {
          "base_uri": "https://localhost:8080/"
        },
        "id": "aK1uDtYe6s22",
        "outputId": "3b9f1b33-bd11-4b82-f066-0ed6754e717b"
      },
      "execution_count": null,
      "outputs": [
        {
          "output_type": "execute_result",
          "data": {
            "text/plain": [
              "hotel                             0\n",
              "is_canceled                       0\n",
              "lead_time                         0\n",
              "arrival_date_year                 0\n",
              "arrival_date_month                0\n",
              "arrival_date_week_number          0\n",
              "arrival_date_day_of_month         0\n",
              "stays_in_weekend_nights           0\n",
              "stays_in_week_nights              0\n",
              "adults                            0\n",
              "children                          0\n",
              "babies                            0\n",
              "meal                              0\n",
              "country                           0\n",
              "market_segment                    0\n",
              "distribution_channel              0\n",
              "is_repeated_guest                 0\n",
              "previous_cancellations            0\n",
              "previous_bookings_not_canceled    0\n",
              "reserved_room_type                0\n",
              "assigned_room_type                0\n",
              "booking_changes                   0\n",
              "deposit_type                      0\n",
              "agent                             0\n",
              "company                           0\n",
              "days_in_waiting_list              0\n",
              "customer_type                     0\n",
              "adr                               0\n",
              "required_car_parking_spaces       0\n",
              "total_of_special_requests         0\n",
              "reservation_status                0\n",
              "reservation_status_date           0\n",
              "dtype: int64"
            ]
          },
          "metadata": {},
          "execution_count": 19
        }
      ]
    },
    {
      "cell_type": "code",
      "source": [
        "# IN COUNTRY COLUMN REPLACING 0 WITH UNDEFINED BECAUSE COUNTRY IS A CATEGORICAL COLUMN\n",
        "\n",
        "df.country = df.country.replace(0, \"undefined\")"
      ],
      "metadata": {
        "id": "WPxwyZKfd6_k"
      },
      "execution_count": null,
      "outputs": []
    },
    {
      "cell_type": "code",
      "source": [
        "# VERIFYING ALL THE UNIQUE IN COUNTRY COLUMN\n",
        "\n",
        "df.country.unique()"
      ],
      "metadata": {
        "colab": {
          "base_uri": "https://localhost:8080/"
        },
        "id": "yG8WgpZNg9cT",
        "outputId": "5588831a-dce3-4e95-81f2-35ee3997a4b5"
      },
      "execution_count": null,
      "outputs": [
        {
          "output_type": "execute_result",
          "data": {
            "text/plain": [
              "array(['PRT', 'GBR', 'USA', 'ESP', 'IRL', 'FRA', 'undefined', 'ROU',\n",
              "       'NOR', 'OMN', 'ARG', 'POL', 'DEU', 'BEL', 'CHE', 'CN', 'GRC',\n",
              "       'ITA', 'NLD', 'DNK', 'RUS', 'SWE', 'AUS', 'EST', 'CZE', 'BRA',\n",
              "       'FIN', 'MOZ', 'BWA', 'LUX', 'SVN', 'ALB', 'IND', 'CHN', 'MEX',\n",
              "       'MAR', 'UKR', 'SMR', 'LVA', 'PRI', 'SRB', 'CHL', 'AUT', 'BLR',\n",
              "       'LTU', 'TUR', 'ZAF', 'AGO', 'ISR', 'CYM', 'ZMB', 'CPV', 'ZWE',\n",
              "       'DZA', 'KOR', 'CRI', 'HUN', 'ARE', 'TUN', 'JAM', 'HRV', 'HKG',\n",
              "       'IRN', 'GEO', 'AND', 'GIB', 'URY', 'JEY', 'CAF', 'CYP', 'COL',\n",
              "       'GGY', 'KWT', 'NGA', 'MDV', 'VEN', 'SVK', 'FJI', 'KAZ', 'PAK',\n",
              "       'IDN', 'LBN', 'PHL', 'SEN', 'SYC', 'AZE', 'BHR', 'NZL', 'THA',\n",
              "       'DOM', 'MKD', 'MYS', 'ARM', 'JPN', 'LKA', 'CUB', 'CMR', 'BIH',\n",
              "       'MUS', 'COM', 'SUR', 'UGA', 'BGR', 'CIV', 'JOR', 'SYR', 'SGP',\n",
              "       'BDI', 'SAU', 'VNM', 'PLW', 'QAT', 'EGY', 'PER', 'MLT', 'MWI',\n",
              "       'ECU', 'MDG', 'ISL', 'UZB', 'NPL', 'BHS', 'MAC', 'TGO', 'TWN',\n",
              "       'DJI', 'STP', 'KNA', 'ETH', 'IRQ', 'HND', 'RWA', 'KHM', 'MCO',\n",
              "       'BGD', 'IMN', 'TJK', 'NIC', 'BEN', 'VGB', 'TZA', 'GAB', 'GHA',\n",
              "       'TMP', 'GLP', 'KEN', 'LIE', 'GNB', 'MNE', 'UMI', 'MYT', 'FRO',\n",
              "       'MMR', 'PAN', 'BFA', 'LBY', 'MLI', 'NAM', 'BOL', 'PRY', 'BRB',\n",
              "       'ABW', 'AIA', 'SLV', 'DMA', 'PYF', 'GUY', 'LCA', 'ATA', 'GTM',\n",
              "       'ASM', 'MRT', 'NCL', 'KIR', 'SDN', 'ATF', 'SLE', 'LAO'],\n",
              "      dtype=object)"
            ]
          },
          "metadata": {},
          "execution_count": 21
        }
      ]
    },
    {
      "cell_type": "markdown",
      "source": [
        "**--> DATA CLEANING IS COMPLETED HERE!**"
      ],
      "metadata": {
        "id": "XwERCh4R8h4Z"
      }
    },
    {
      "cell_type": "markdown",
      "source": [
        "# EXPLORATORY DATA ANALYSIS"
      ],
      "metadata": {
        "id": "wbWJ2gYUhOic"
      }
    },
    {
      "cell_type": "code",
      "source": [
        "# HOTEL WAS MORE ENGAGING AND IN DEMAND IN 3 YEARS\n",
        "\n",
        "plt.figure(figsize=(11,6))\n",
        "sns.countplot('hotel', data= df, palette=\"husl\")\n",
        "plt.xlabel(\"TYPES OF HOTEL\")\n",
        "plt.ylabel(\"NUMBER OF ARRIVAL IN 3 YEARS\")\n",
        "plt.title(\"HOTEL WAS MORE ENGAGING AND IN DEMAND IN 3 YEARS\")\n",
        "plt.show()"
      ],
      "metadata": {
        "id": "Gr-YPxkN3-nm",
        "colab": {
          "base_uri": "https://localhost:8080/",
          "height": 404
        },
        "outputId": "98559023-9c6a-4345-89be-d622ce723535"
      },
      "execution_count": null,
      "outputs": [
        {
          "output_type": "display_data",
          "data": {
            "text/plain": [
              "<Figure size 792x432 with 1 Axes>"
            ],
            "image/png": "[encoded data removed]"
          },
          "metadata": {
            "needs_background": "light"
          }
        }
      ]
    },
    {
      "cell_type": "markdown",
      "source": [
        "**--> CITY HOTEL HAS MORE GUEST THAN RESORT HOTEL IN LAST 3 YEARS**"
      ],
      "metadata": {
        "id": "y-40bfjcYK3I"
      }
    },
    {
      "cell_type": "code",
      "source": [
        "# PERCENTAGE OF GUEST IN BOTH OF HOTEL\n",
        "\n",
        "plt.figure(figsize = (5,5))\n",
        "index = df.hotel.value_counts().index.tolist()\n",
        "value = df.hotel.value_counts()\n",
        "\n",
        "palette_color = sns.color_palette('husl')\n",
        "plt.pie(value, labels=index, colors=palette_color,explode= [0, 0.1], autopct='%.0f%%')\n",
        "plt.title(\"PERCENTAGE OF GUEST IN BOTH OF HOTEL\")\n",
        "plt.show()"
      ],
      "metadata": {
        "id": "OgSmPnOjV4A9",
        "colab": {
          "base_uri": "https://localhost:8080/",
          "height": 319
        },
        "outputId": "a6502187-d3c0-48f2-8f46-ce48cbc5f30e"
      },
      "execution_count": null,
      "outputs": [
        {
          "output_type": "display_data",
          "data": {
            "text/plain": [
              "<Figure size 360x360 with 1 Axes>"
            ],
            "image/png": "[encoded data removed]"
          },
          "metadata": {}
        }
      ]
    },
    {
      "cell_type": "markdown",
      "source": [
        "**--> CITY HOTLE HAVE 66% OF GUEST AND THE REST IN RESORT HOTEL AND THAT IS 34%**\n",
        "\n",
        "\n",
        "\n"
      ],
      "metadata": {
        "id": "OtOkK-8lh_hD"
      }
    },
    {
      "cell_type": "code",
      "source": [
        "# WHICH YEAR IS THE MOST PROFITABLE YEAR FOR HOTEL IN LAST 3 YEARS\n",
        "\n",
        "plt.figure(figsize=(11,6))\n",
        "sns.countplot(x=df['arrival_date_year'], palette='husl')\n",
        "plt.xlabel(\"YEAR\")\n",
        "plt.ylabel(\"NUMBER OF ARRIVAL\")\n",
        "plt.title(\"THE MOST PROFITABLE YEAR FOR HOTEL IN LAST 3 YEARS\")\n",
        "plt.show()"
      ],
      "metadata": {
        "colab": {
          "base_uri": "https://localhost:8080/",
          "height": 404
        },
        "id": "xsgOSpo_zJ_j",
        "outputId": "f6f7927d-4966-44df-c0b2-8105b696e7e1"
      },
      "execution_count": null,
      "outputs": [
        {
          "output_type": "display_data",
          "data": {
            "text/plain": [
              "<Figure size 792x432 with 1 Axes>"
            ],
            "image/png": "[encoded data removed]"
          },
          "metadata": {
            "needs_background": "light"
          }
        }
      ]
    },
    {
      "cell_type": "markdown",
      "source": [
        "**--> 2016 IS THE MOST PROFITABLE YEAR FOR HOTEL**"
      ],
      "metadata": {
        "id": "_rA7D_RdlGI_"
      }
    },
    {
      "cell_type": "code",
      "source": [
        "# THE MOST PROFITABLE YEAR FOR INDIVIDUALLY HOTEL\n",
        "\n",
        "plt.figure(figsize=(11,6))\n",
        "sns.countplot('arrival_date_year', hue = 'hotel', data= df, palette=\"husl\")\n",
        "plt.xlabel(\"YEAR\")\n",
        "plt.ylabel(\"NUMBER OF GUEST\")\n",
        "plt.title(\"THE MOST PROFITABLE YEAR FOR INDIVIDUALLY HOTEL\")\n",
        "plt.show()\n"
      ],
      "metadata": {
        "id": "Inh8q4iumn6d",
        "colab": {
          "base_uri": "https://localhost:8080/",
          "height": 404
        },
        "outputId": "5756f29e-e81f-471d-fca6-eec23a0f829b"
      },
      "execution_count": null,
      "outputs": [
        {
          "output_type": "display_data",
          "data": {
            "text/plain": [
              "<Figure size 792x432 with 1 Axes>"
            ],
            "image/png": "[encoded data removed]"
          },
          "metadata": {
            "needs_background": "light"
          }
        }
      ]
    },
    {
      "cell_type": "markdown",
      "source": [
        "**--> ALL 3 YEARS CITY HOTEL HAVE MADE MORE PROFIT THAN RESORT HOTEL**\n",
        "\n",
        "**--> 2016 IS THE MOST PROFITABLE FOR BOTH OF THE HOTEL**\n",
        "\n",
        "**--> ALL 3 YEARS CITY HOTEL HAVE MORE NUMBER OF GUEST THAN RESORT HOTEL**\n"
      ],
      "metadata": {
        "id": "1h_enBQIlqMx"
      }
    },
    {
      "cell_type": "code",
      "source": [
        "# TOTAL CANCELLATION OF BOOKING IN 3 YEARS\n",
        "\n",
        "\n",
        "edit_df = df.copy() # COPING DATA SET TO MAKE CHANGES FOR BETTER UNDERSTANDING OF END USER\n",
        "\n",
        "edit_df[\"is_canceled\"] = edit_df.is_canceled.replace([0,1],[\"NO\",\"YES\"])\n",
        "\n",
        "\n",
        "plt.figure(figsize=(11,6))\n",
        "sns.countplot(\"hotel\", hue= \"is_canceled\" , data = edit_df, palette=\"husl\")\n",
        "plt.xlabel(\"CANCELLATION\")\n",
        "plt.title(\"TOTAL NUMBERS OF CANCELLATION IN 3 YEAR\")\n",
        "plt.show()"
      ],
      "metadata": {
        "colab": {
          "base_uri": "https://localhost:8080/",
          "height": 404
        },
        "id": "7TPtJJybsywu",
        "outputId": "813dce18-89a5-416c-cdcf-b8419cab3172"
      },
      "execution_count": null,
      "outputs": [
        {
          "output_type": "display_data",
          "data": {
            "text/plain": [
              "<Figure size 792x432 with 1 Axes>"
            ],
            "image/png": "[encoded data removed]"
          },
          "metadata": {
            "needs_background": "light"
          }
        }
      ]
    },
    {
      "cell_type": "markdown",
      "source": [
        "**--> NUMBER OF BOOKING CANCELLATION IS MORE THAN 50% OF TOTAL BOOKING**"
      ],
      "metadata": {
        "id": "-QyDwIsGxq-b"
      }
    },
    {
      "cell_type": "code",
      "source": [
        "# CANCELLATION OF BOOKING IN 3 YEARS INDIVIDUALLY\n",
        "\n",
        "\n",
        "x = [\"2015\", \"2016\", \"2017\"]\n",
        "y = []\n",
        "for i in x:\n",
        "  y.append(df[df[\"arrival_date_year\"] == int(i)][df[df[\"arrival_date_year\"] == int(i)][\"is_canceled\"] == 1][\"is_canceled\"].count())\n",
        "\n",
        "\n",
        "plt.figure(figsize=(11,6))\n",
        "plt.bar(x,y, color = sns.color_palette())\n",
        "plt.xlabel(\"YEARS\")\n",
        "plt.ylabel(\"NUMBERS OF CANCELLATION\")\n",
        "plt.title(\"NUMBER OF CANCELLATION IN 3 YEARS INDIVIDUALLY\")\n",
        "plt.show()"
      ],
      "metadata": {
        "colab": {
          "base_uri": "https://localhost:8080/",
          "height": 404
        },
        "id": "bvdtlleRdTUG",
        "outputId": "72e30bd9-d118-45f2-abe7-a7eec6bc121c"
      },
      "execution_count": null,
      "outputs": [
        {
          "output_type": "display_data",
          "data": {
            "text/plain": [
              "<Figure size 792x432 with 1 Axes>"
            ],
            "image/png": "[encoded data removed]"
          },
          "metadata": {
            "needs_background": "light"
          }
        }
      ]
    },
    {
      "cell_type": "markdown",
      "source": [
        "**-->2016 HAS THE HIGHEST NUMBERS OF CANCELLATION IN 3 YEARS**"
      ],
      "metadata": {
        "id": "apGTHIZhfFPR"
      }
    },
    {
      "cell_type": "code",
      "source": [
        "# WHICH MONTH HAVE THE MOST NUMBER OF GUEST IN ALL 3 YEARS (SUMMED OF ALL 3 YEAR AS PER THE MONTH)\n",
        "\n",
        "x = [\"January\", \"February\", \"March\", \"April\", \"May\", \"June\", \"July\", \"August\", \"September\", \"October\", \"November\", \"December\"] #COMMON FOR ALL THE TABLE\n",
        "z = list(df[\"arrival_date_month\"].unique())\n",
        "y = []\n",
        "\n",
        "for i in x:\n",
        "  y.append(df[df.arrival_date_month == i][\"arrival_date_month\"].count())\n",
        "\n",
        "\n",
        "plt.figure(figsize=(11,5))\n",
        "plt.bar(x, y, color = sns.color_palette(),\n",
        "        width = 0.7)\n",
        "plt.xlabel(\"MONTHS\")\n",
        "plt.xticks(rotation= \"vertical\")\n",
        "plt.ylabel(\"NUMBER OF ARRIVAL\")\n",
        "plt.title(\"ARRIVALS IN ALL 3 YEARS\")\n",
        "plt.show()"
      ],
      "metadata": {
        "id": "1aMHA26thvYN",
        "colab": {
          "base_uri": "https://localhost:8080/",
          "height": 394
        },
        "outputId": "2eaac4a7-f933-44dc-bc4b-7ff345ff50a2"
      },
      "execution_count": null,
      "outputs": [
        {
          "output_type": "display_data",
          "data": {
            "text/plain": [
              "<Figure size 792x360 with 1 Axes>"
            ],
            "image/png": "[encoded data removed]"
          },
          "metadata": {
            "needs_background": "light"
          }
        }
      ]
    },
    {
      "cell_type": "markdown",
      "source": [
        "**--> AUGUST HAVE MORE NUMBER GUEST THAN ANY OTHER MONTHS**\n",
        "\n",
        "**--> JULY HAS THE SECOND HIGHEST NUMBER OF GUEST AFTER AUGUST**\n"
      ],
      "metadata": {
        "id": "Dc3-xNk813q7"
      }
    },
    {
      "cell_type": "code",
      "source": [
        "plt.figure(figsize= (11,6))\n",
        "\n",
        "x = [\"January\", \"February\", \"March\", \"April\", \"May\", \"June\", \"July\", \"August\", \"September\", \"October\", \"November\", \"December\"]\n",
        "\n",
        "sns.countplot(\"arrival_date_month\", hue=\"arrival_date_year\", data=df, order= x)\n",
        "plt.xticks(rotation = \"vertical\")\n",
        "plt.xlabel(\"MONTHS\")\n",
        "plt.title(\"INDIVIDUAL MONTH GUEST ARRIVED FROM LAST 3 YEARS\")\n",
        "plt.legend(loc=\"upper left\")\n",
        "plt.show()"
      ],
      "metadata": {
        "colab": {
          "base_uri": "https://localhost:8080/",
          "height": 449
        },
        "id": "UFAoI7tlI9OO",
        "outputId": "72b3fce4-36c2-4b67-f9f4-370c2d1a1deb"
      },
      "execution_count": null,
      "outputs": [
        {
          "output_type": "display_data",
          "data": {
            "text/plain": [
              "<Figure size 792x432 with 1 Axes>"
            ],
            "image/png": "[encoded data removed]"
          },
          "metadata": {
            "needs_background": "light"
          }
        }
      ]
    },
    {
      "cell_type": "markdown",
      "source": [
        "**--> ONLY JULY AND AUGUST ARE IN ALL 3 YEARS THATS WHY MORE GUEST IS IN AUGUST AND JULY**"
      ],
      "metadata": {
        "id": "XLI_lKiaLY0B"
      }
    },
    {
      "cell_type": "code",
      "source": [
        "# WHICH MONTH HAVE THE MOST NUMBERS OF ARRIVALS IN 2015\n",
        "z = list(df[df.arrival_date_year==2015][\"arrival_date_month\"].unique())\n",
        "x = [\"January\", \"February\", \"March\", \"April\", \"May\", \"June\", \"July\", \"August\", \"September\", \"October\", \"November\", \"December\"]\n",
        "y = []\n",
        "\n",
        "for i in x:\n",
        "  if i in z:\n",
        "    y.append(df[df[\"arrival_date_year\"] == 2015][df[df[\"arrival_date_year\"] == 2015][\"arrival_date_month\"] == i][\"arrival_date_month\"].count())\n",
        "  else:\n",
        "    y.append(0)\n",
        "\n",
        "plt.figure(figsize=(11,5))\n",
        "plt.bar(x, y, color =['lightgreen', 'violet'],\n",
        "        width = 0.4)\n",
        "plt.xlabel(\"MONTHS\")\n",
        "plt.xticks(rotation= \"vertical\")\n",
        "plt.ylabel(\"NUMBER OF ARRIVAL\")\n",
        "plt.title(\"ARRIVALS IN MONTHS OF 2015\")\n",
        "plt.show()\n",
        "\n"
      ],
      "metadata": {
        "id": "6XL4Bq86b3lJ",
        "colab": {
          "base_uri": "https://localhost:8080/",
          "height": 394
        },
        "outputId": "7df6f015-caa1-4385-d98e-1cac5a37ca9d"
      },
      "execution_count": null,
      "outputs": [
        {
          "output_type": "display_data",
          "data": {
            "text/plain": [
              "<Figure size 792x360 with 1 Axes>"
            ],
            "image/png": "[encoded data removed]"
          },
          "metadata": {
            "needs_background": "light"
          }
        }
      ]
    },
    {
      "cell_type": "markdown",
      "source": [
        "**--> SETPEMBER 2015 HAS THE HIGHEST NUMBERS OF ARRIVALS**\n",
        "\n",
        "**--> IN DATASET DATA IS FROM JULY 2015**"
      ],
      "metadata": {
        "id": "ZNxYiNVdSv9S"
      }
    },
    {
      "cell_type": "code",
      "source": [
        "# WHICH MONTH HAVE THE MOST NUMBERS OF ARRIVALS IN 2016\n",
        "\n",
        "z = list(df[df.arrival_date_year==2016][\"arrival_date_month\"].unique())\n",
        "x = [\"January\", \"February\", \"March\", \"April\", \"May\", \"June\", \"July\", \"August\", \"September\", \"October\", \"November\", \"December\"]\n",
        "y = []\n",
        "\n",
        "for i in x:\n",
        "  if i in z:\n",
        "    y.append(df[df[\"arrival_date_year\"] == 2016][df[df[\"arrival_date_year\"] == 2016][\"arrival_date_month\"] == i][\"arrival_date_month\"].count())\n",
        "  else:\n",
        "    y.append(0)\n",
        "\n",
        "\n",
        "plt.figure(figsize=(11,5))\n",
        "plt.bar(x, y, color =['lightgreen', 'violet'], width = 0.4)\n",
        "plt.xlabel(\"MONTHS\")\n",
        "plt.xticks(rotation= \"vertical\")\n",
        "plt.ylabel(\"NUMBER OF ARRIVAL\")\n",
        "plt.title(\"ARRIVALS IN MONTHS OF 2016\")\n",
        "plt.show()\n",
        "\n"
      ],
      "metadata": {
        "id": "RzkjYiygUEkT",
        "colab": {
          "base_uri": "https://localhost:8080/",
          "height": 394
        },
        "outputId": "4cd35174-02b7-488a-80dd-c4e501ac5bc2"
      },
      "execution_count": null,
      "outputs": [
        {
          "output_type": "display_data",
          "data": {
            "text/plain": [
              "<Figure size 792x360 with 1 Axes>"
            ],
            "image/png": "[encoded data removed]"
          },
          "metadata": {
            "needs_background": "light"
          }
        }
      ]
    },
    {
      "cell_type": "markdown",
      "source": [
        "**--> IN 2016 IN OCTOBER HAS THE HIGHEST NUMBERS OF ARRIVALS**"
      ],
      "metadata": {
        "id": "Y_hQWsCsU6cg"
      }
    },
    {
      "cell_type": "code",
      "source": [
        "# WHICH MONTH HAVE THE MOST NUMBERS OF ARRIVALS IN 2017\n",
        "\n",
        "z = list(df[df.arrival_date_year==2017][\"arrival_date_month\"].unique())\n",
        "x = [\"January\", \"February\", \"March\", \"April\", \"May\", \"June\", \"July\", \"August\", \"September\", \"October\", \"November\", \"December\"]\n",
        "y = []\n",
        "\n",
        "for i in x:\n",
        "  if i in z:\n",
        "    y.append(df[df[\"arrival_date_year\"] == 2017][df[df[\"arrival_date_year\"] == 2017][\"arrival_date_month\"] == i][\"arrival_date_month\"].count())\n",
        "  else:\n",
        "    y.append(0)\n",
        "\n",
        "plt.figure(figsize=(11,5))\n",
        "plt.bar(x, y, color =['lightgreen', 'violet'],\n",
        "        width = 0.4)\n",
        "plt.xlabel(\"MONTHS\")\n",
        "plt.xticks(rotation= \"vertical\")\n",
        "plt.ylabel(\"NUMBER OF ARRIVAL\")\n",
        "plt.title(\"ARRIVALS IN MONTHS OF 2017\")\n",
        "plt.show()"
      ],
      "metadata": {
        "id": "fvUnizU6PGAZ",
        "colab": {
          "base_uri": "https://localhost:8080/",
          "height": 394
        },
        "outputId": "b6f9da84-1c2f-4a5a-9e2f-c3fcd70457b9"
      },
      "execution_count": null,
      "outputs": [
        {
          "output_type": "display_data",
          "data": {
            "text/plain": [
              "<Figure size 792x360 with 1 Axes>"
            ],
            "image/png": "[encoded data removed]"
          },
          "metadata": {
            "needs_background": "light"
          }
        }
      ]
    },
    {
      "cell_type": "markdown",
      "source": [
        "**--> MAY 2017 HAS THE HIGHEST NUMBERS OF ARRIVALS**\n",
        "\n",
        "**--> IN DATA SET DATA IS ONLY AVAILABLE TILL AUGUST 2017**"
      ],
      "metadata": {
        "id": "YNeKnZGnVKs4"
      }
    },
    {
      "cell_type": "code",
      "source": [
        "# STAY IN WEEKEND NIGHT\n",
        "\n",
        "edit_df = edit_df[edit_df[\"is_canceled\"] != \"YES\"] # EDITING DATA SET IN EDIT_DF\n",
        "\n",
        "\n",
        "plt.figure(figsize=(11,5))\n",
        "sns.countplot('stays_in_weekend_nights',palette='husl', data = edit_df)\n",
        "plt.xlabel(\"NUMBER OF STAY DAYS\")\n",
        "plt.ylabel(\"NUMBER OF ARRIVAL\")\n",
        "plt.title(\"STAY IN WEEKEND NIGHT\")\n",
        "plt.show()"
      ],
      "metadata": {
        "colab": {
          "base_uri": "https://localhost:8080/",
          "height": 350
        },
        "id": "PBDX1wUwPq6Z",
        "outputId": "b4ecc15b-931f-4d88-ea19-1aae91506c7b"
      },
      "execution_count": null,
      "outputs": [
        {
          "output_type": "display_data",
          "data": {
            "text/plain": [
              "<Figure size 792x360 with 1 Axes>"
            ],
            "image/png": "[encoded data removed]"
          },
          "metadata": {
            "needs_background": "light"
          }
        }
      ]
    },
    {
      "cell_type": "markdown",
      "source": [
        "**--> MOST OF THE TRAVELLERS WHO ARRIVED IN HOTEL ON WEEKEND LEFT THE HOTEL ON THE SAME DAY!**"
      ],
      "metadata": {
        "id": "VdyXLMrPcfD7"
      }
    },
    {
      "cell_type": "code",
      "source": [
        "# STAY IN WEEK NIGHT\n",
        "\n",
        "plt.figure(figsize=(11,5))\n",
        "sns.countplot('stays_in_week_nights',palette='husl' , data = edit_df)\n",
        "plt.xlabel(\"NUMBER OF STAY DAYS\")\n",
        "plt.ylabel(\"NUMBER OF ARRIVAL\")\n",
        "plt.title(\"STAY IN WEEK NIGHT\")\n",
        "plt.show()"
      ],
      "metadata": {
        "colab": {
          "base_uri": "https://localhost:8080/",
          "height": 350
        },
        "id": "kh1Gnw9VPsTM",
        "outputId": "01776087-af29-4a40-e7a3-cfc14c55d1ef"
      },
      "execution_count": null,
      "outputs": [
        {
          "output_type": "display_data",
          "data": {
            "text/plain": [
              "<Figure size 792x360 with 1 Axes>"
            ],
            "image/png": "[encoded data removed]"
          },
          "metadata": {
            "needs_background": "light"
          }
        }
      ]
    },
    {
      "cell_type": "markdown",
      "source": [
        "**--> MOST OF THE TRAVELLERS WHO ARRIVED IN HOTEL ON WEEK DAY LEFT THE HOTEL ON THE NEXT DAY!**"
      ],
      "metadata": {
        "id": "vFR_lF1OdozG"
      }
    },
    {
      "cell_type": "code",
      "source": [
        "# TOP 3 TRAVELLER PREFERED TO TRAVEL (SOLO, COUPLE OR IN GROUP OD 3)\n",
        "\n",
        "\n",
        "x = df['adults'].unique()[:3]\n",
        "y = df['adults'].value_counts()[:3]\n",
        "\n",
        "plt.figure(figsize=(8,5))\n",
        "plt.bar(x, y, color =['pink', 'lightblue'], width = 0.4)\n",
        "plt.xlabel(\"NUMBERS OF ADULT\")\n",
        "plt.ylabel(\"NUMBER OF ADULT STAY\")\n",
        "plt.title(\"TOP 3 WAY TRAVELLER PERFERRED TO TRAVEL\")\n",
        "plt.xticks(np.arange(1, 4))\n",
        "plt.show()"
      ],
      "metadata": {
        "colab": {
          "base_uri": "https://localhost:8080/",
          "height": 350
        },
        "id": "ahwzMs2fH_f3",
        "outputId": "36a12fda-0184-4a0b-c882-007c21e07ab5"
      },
      "execution_count": null,
      "outputs": [
        {
          "output_type": "display_data",
          "data": {
            "text/plain": [
              "<Figure size 576x360 with 1 Axes>"
            ],
            "image/png": "[encoded data removed]"
          },
          "metadata": {
            "needs_background": "light"
          }
        }
      ]
    },
    {
      "cell_type": "markdown",
      "source": [
        "**--> COUPLE GUEST HAS MORE CHECK-INS THAN ANY OTHER NUMBER OF GUESTS**"
      ],
      "metadata": {
        "id": "EpBWXo727Zu0"
      }
    },
    {
      "cell_type": "code",
      "source": [
        "# NUMBERS OF ADULTS TRAVEL WITH CHILDREN OR BABIES\n",
        "\n",
        "x = [\"TRAVELLING WITH KIDS\", \"TRAVELLING WITHOUT KIDS\"]\n",
        "y = [df[(df.children != 0) | (df.babies != 0)][\"adults\"].count(), df[(df.children == 0) | (df.babies == 0)][\"adults\"].count()]\n",
        "\n",
        "fig = plt.figure(figsize =(10, 7))\n",
        "colors = sns.color_palette('husl')\n",
        "plt.pie(y, labels = x, colors = colors, autopct='%.0f%%')\n",
        "plt.title(\"PERCENTAGE OF TRAVELLER TRAVEL WITHOUT KIDS\")\n",
        "plt.show()"
      ],
      "metadata": {
        "id": "NeVs2HfuFZLx",
        "colab": {
          "base_uri": "https://localhost:8080/",
          "height": 427
        },
        "outputId": "9d19380d-2a7d-49d1-e372-96924acb72a1"
      },
      "execution_count": null,
      "outputs": [
        {
          "output_type": "display_data",
          "data": {
            "text/plain": [
              "<Figure size 720x504 with 1 Axes>"
            ],
            "image/png": "[encoded data removed]"
          },
          "metadata": {}
        }
      ]
    },
    {
      "cell_type": "markdown",
      "source": [
        "**--> ONLY 7% OF TRAVELLERS, TRAVEL WITH THEIR KIDS IN 3 YEARS**"
      ],
      "metadata": {
        "id": "ZTDRP4MK6535"
      }
    },
    {
      "cell_type": "code",
      "source": [
        "# Undefined/SC – no meal package\n",
        "# BB – Bed & Breakfast\n",
        "# HB – Half board (breakfast and one other meal – usually dinner)\n",
        "# FB – Full board (breakfast, lunch and dinner)\n",
        "\n",
        "plt.figure(figsize=(14,7))\n",
        "sns.countplot(x=df['meal'], palette='husl')\n",
        "plt.show()"
      ],
      "metadata": {
        "colab": {
          "base_uri": "https://localhost:8080/",
          "height": 442
        },
        "id": "59Tebx00FEEQ",
        "outputId": "e9665542-0109-47fa-8dd3-8d4e8ccd1fda"
      },
      "execution_count": null,
      "outputs": [
        {
          "output_type": "display_data",
          "data": {
            "text/plain": [
              "<Figure size 1008x504 with 1 Axes>"
            ],
            "image/png": "[encoded data removed]"
          },
          "metadata": {
            "needs_background": "light"
          }
        }
      ]
    },
    {
      "cell_type": "markdown",
      "source": [
        "**--> MORE THAN 70% OF HOTELS PROVIDE BED AND BREAKFAST**\n"
      ],
      "metadata": {
        "id": "as4GmBMh7Ti3"
      }
    },
    {
      "cell_type": "code",
      "source": [
        "# TABLE OF WHAT HOTEL PROVIDE WHAT TYPE OF MEAL!\n",
        "\n",
        "df.groupby(\"meal\")[\"hotel\"].agg(value = (\"value_counts\"))"
      ],
      "metadata": {
        "colab": {
          "base_uri": "https://localhost:8080/",
          "height": 363
        },
        "id": "VIof1L_ZH_cu",
        "outputId": "fa7f4a7d-cd27-4677-b9dd-9945bc91c2dc"
      },
      "execution_count": null,
      "outputs": [
        {
          "output_type": "execute_result",
          "data": {
            "text/plain": [
              "                        value\n",
              "meal      hotel              \n",
              "BB        City Hotel    62305\n",
              "          Resort Hotel  30005\n",
              "FB        Resort Hotel    754\n",
              "          City Hotel       44\n",
              "HB        Resort Hotel   8046\n",
              "          City Hotel     6417\n",
              "SC        City Hotel    10564\n",
              "          Resort Hotel     86\n",
              "Undefined Resort Hotel   1169"
            ],
            "text/html": [
              "\n",
              "  <div id=\"df-3e59f731-7b44-499d-9347-9ad3aaf93812\">\n",
              "    <div class=\"colab-df-container\">\n",
              "      <div>\n",
              "<style scoped>\n",
              "    .dataframe tbody tr th:only-of-type {\n",
              "        vertical-align: middle;\n",
              "    }\n",
              "\n",
              "    .dataframe tbody tr th {\n",
              "        vertical-align: top;\n",
              "    }\n",
              "\n",
              "    .dataframe thead th {\n",
              "        text-align: right;\n",
              "    }\n",
              "</style>\n",
              "<table border=\"1\" class=\"dataframe\">\n",
              "  <thead>\n",
              "    <tr style=\"text-align: right;\">\n",
              "      <th></th>\n",
              "      <th></th>\n",
              "      <th>value</th>\n",
              "    </tr>\n",
              "    <tr>\n",
              "      <th>meal</th>\n",
              "      <th>hotel</th>\n",
              "      <th></th>\n",
              "    </tr>\n",
              "  </thead>\n",
              "  <tbody>\n",
              "    <tr>\n",
              "      <th rowspan=\"2\" valign=\"top\">BB</th>\n",
              "      <th>City Hotel</th>\n",
              "      <td>62305</td>\n",
              "    </tr>\n",
              "    <tr>\n",
              "      <th>Resort Hotel</th>\n",
              "      <td>30005</td>\n",
              "    </tr>\n",
              "    <tr>\n",
              "      <th rowspan=\"2\" valign=\"top\">FB</th>\n",
              "      <th>Resort Hotel</th>\n",
              "      <td>754</td>\n",
              "    </tr>\n",
              "    <tr>\n",
              "      <th>City Hotel</th>\n",
              "      <td>44</td>\n",
              "    </tr>\n",
              "    <tr>\n",
              "      <th rowspan=\"2\" valign=\"top\">HB</th>\n",
              "      <th>Resort Hotel</th>\n",
              "      <td>8046</td>\n",
              "    </tr>\n",
              "    <tr>\n",
              "      <th>City Hotel</th>\n",
              "      <td>6417</td>\n",
              "    </tr>\n",
              "    <tr>\n",
              "      <th rowspan=\"2\" valign=\"top\">SC</th>\n",
              "      <th>City Hotel</th>\n",
              "      <td>10564</td>\n",
              "    </tr>\n",
              "    <tr>\n",
              "      <th>Resort Hotel</th>\n",
              "      <td>86</td>\n",
              "    </tr>\n",
              "    <tr>\n",
              "      <th>Undefined</th>\n",
              "      <th>Resort Hotel</th>\n",
              "      <td>1169</td>\n",
              "    </tr>\n",
              "  </tbody>\n",
              "</table>\n",
              "</div>\n",
              "      <button class=\"colab-df-convert\" onclick=\"convertToInteractive('df-3e59f731-7b44-499d-9347-9ad3aaf93812')\"\n",
              "              title=\"Convert this dataframe to an interactive table.\"\n",
              "              style=\"display:none;\">\n",
              "        \n",
              "  <svg xmlns=\"http://www.w3.org/2000/svg\" height=\"24px\"viewBox=\"0 0 24 24\"\n",
              "       width=\"24px\">\n",
              "    <path d=\"M0 0h24v24H0V0z\" fill=\"none\"/>\n",
              "    <path d=\"M18.56 5.44l.94 2.06.94-2.06 2.06-.94-2.06-.94-.94-2.06-.94 2.06-2.06.94zm-11 1L8.5 8.5l.94-2.06 2.06-.94-2.06-.94L8.5 2.5l-.94 2.06-2.06.94zm10 10l.94 2.06.94-2.06 2.06-.94-2.06-.94-.94-2.06-.94 2.06-2.06.94z\"/><path d=\"M17.41 7.96l-1.37-1.37c-.4-.4-.92-.59-1.43-.59-.52 0-1.04.2-1.43.59L10.3 9.45l-7.72 7.72c-.78.78-.78 2.05 0 2.83L4 21.41c.39.39.9.59 1.41.59.51 0 1.02-.2 1.41-.59l7.78-7.78 2.81-2.81c.8-.78.8-2.07 0-2.86zM5.41 20L4 18.59l7.72-7.72 1.47 1.35L5.41 20z\"/>\n",
              "  </svg>\n",
              "      </button>\n",
              "      \n",
              "  <style>\n",
              "    .colab-df-container {\n",
              "      display:flex;\n",
              "      flex-wrap:wrap;\n",
              "      gap: 12px;\n",
              "    }\n",
              "\n",
              "    .colab-df-convert {\n",
              "      background-color: #E8F0FE;\n",
              "      border: none;\n",
              "      border-radius: 50%;\n",
              "      cursor: pointer;\n",
              "      display: none;\n",
              "      fill: #1967D2;\n",
              "      height: 32px;\n",
              "      padding: 0 0 0 0;\n",
              "      width: 32px;\n",
              "    }\n",
              "\n",
              "    .colab-df-convert:hover {\n",
              "      background-color: #E2EBFA;\n",
              "      box-shadow: 0px 1px 2px rgba(60, 64, 67, 0.3), 0px 1px 3px 1px rgba(60, 64, 67, 0.15);\n",
              "      fill: #174EA6;\n",
              "    }\n",
              "\n",
              "    [theme=dark] .colab-df-convert {\n",
              "      background-color: #3B4455;\n",
              "      fill: #D2E3FC;\n",
              "    }\n",
              "\n",
              "    [theme=dark] .colab-df-convert:hover {\n",
              "      background-color: #434B5C;\n",
              "      box-shadow: 0px 1px 3px 1px rgba(0, 0, 0, 0.15);\n",
              "      filter: drop-shadow(0px 1px 2px rgba(0, 0, 0, 0.3));\n",
              "      fill: #FFFFFF;\n",
              "    }\n",
              "  </style>\n",
              "\n",
              "      <script>\n",
              "        const buttonEl =\n",
              "          document.querySelector('#df-3e59f731-7b44-499d-9347-9ad3aaf93812 button.colab-df-convert');\n",
              "        buttonEl.style.display =\n",
              "          google.colab.kernel.accessAllowed ? 'block' : 'none';\n",
              "\n",
              "        async function convertToInteractive(key) {\n",
              "          const element = document.querySelector('#df-3e59f731-7b44-499d-9347-9ad3aaf93812');\n",
              "          const dataTable =\n",
              "            await google.colab.kernel.invokeFunction('convertToInteractive',\n",
              "                                                     [key], {});\n",
              "          if (!dataTable) return;\n",
              "\n",
              "          const docLinkHtml = 'Like what you see? Visit the ' +\n",
              "            '<a target=\"_blank\" href=https://colab.research.google.com/notebooks/data_table.ipynb>data table notebook</a>'\n",
              "            + ' to learn more about interactive tables.';\n",
              "          element.innerHTML = '';\n",
              "          dataTable['output_type'] = 'display_data';\n",
              "          await google.colab.output.renderOutput(dataTable, element);\n",
              "          const docLink = document.createElement('div');\n",
              "          docLink.innerHTML = docLinkHtml;\n",
              "          element.appendChild(docLink);\n",
              "        }\n",
              "      </script>\n",
              "    </div>\n",
              "  </div>\n",
              "  "
            ]
          },
          "metadata": {},
          "execution_count": 38
        }
      ]
    },
    {
      "cell_type": "markdown",
      "source": [
        "**--> HOTELS WITH THE TYPE OF MEAL THEY *PROVIDE*!**"
      ],
      "metadata": {
        "id": "udjpwbar9LLu"
      }
    },
    {
      "cell_type": "code",
      "source": [
        "# GRAPH OF UPPER TABLE!\n",
        "\n",
        "plt.figure(figsize=(11,6))\n",
        "sns.countplot(x = \"meal\", hue = \"hotel\",palette='husl', data = df);\n",
        "plt.legend(loc='upper right')\n",
        "plt.show()"
      ],
      "metadata": {
        "colab": {
          "base_uri": "https://localhost:8080/",
          "height": 388
        },
        "id": "yCYe7e7XH_bU",
        "outputId": "84d616ba-a225-47e3-da5f-ec65df4a309e"
      },
      "execution_count": null,
      "outputs": [
        {
          "output_type": "display_data",
          "data": {
            "text/plain": [
              "<Figure size 792x432 with 1 Axes>"
            ],
            "image/png": "[encoded data removed]"
          },
          "metadata": {
            "needs_background": "light"
          }
        }
      ]
    },
    {
      "cell_type": "markdown",
      "source": [
        "**--> BOTH TYPE OF HOTEL, CITY HOTEL OR RESORT HOTEL PROVIDE BED AND BREAKFAST SERVICE**"
      ],
      "metadata": {
        "id": "IImq5WFj9bdz"
      }
    },
    {
      "cell_type": "code",
      "source": [
        "# WHAT ARE THE TOP 5 COUNTRIES MAX NUMBER OF GUEST IS COMING?\n",
        "# PRT :- Portugal\n",
        "# GBR :- United Kingdom\n",
        "# FRA :- France\n",
        "# ESP :- Spain\n",
        "# DEU :- Germany\n",
        "\n",
        "x = list(df['country'].value_counts().index.tolist()[0:5])\n",
        "y = list(df['country'].value_counts()[:5])\n",
        "\n",
        "plt.figure(figsize=(11,6))\n",
        "\n",
        "plt.bar(x,y, color = sns.color_palette(\"husl\"))\n",
        "plt.xlabel(\"NAME OF COUNTRIES\")\n",
        "plt.ylabel(\"NUMBER OF GUEST\")\n",
        "plt.title(\"TOP 5 COUNTRY GUEST ARE VISITING FROM\")\n",
        "sns.color_palette(\"hls\")\n",
        "plt.show()"
      ],
      "metadata": {
        "colab": {
          "base_uri": "https://localhost:8080/",
          "height": 404
        },
        "id": "FpeNTuBXLwYh",
        "outputId": "4ec04d31-7b1d-43e1-e825-4023c0791ac9"
      },
      "execution_count": null,
      "outputs": [
        {
          "output_type": "display_data",
          "data": {
            "text/plain": [
              "<Figure size 792x432 with 1 Axes>"
            ],
            "image/png": "[encoded data removed]"
          },
          "metadata": {
            "needs_background": "light"
          }
        }
      ]
    },
    {
      "cell_type": "markdown",
      "source": [
        "**--> FROM COUNTRY PRT MORE NUMBER OF GUEST VISITED IN LAST 3 YEARS**\n",
        "\n",
        "**--> 40% GUESTS ARE FROM PRT**"
      ],
      "metadata": {
        "id": "gKq9Fp7l-84O"
      }
    },
    {
      "cell_type": "markdown",
      "source": [
        "## MARKET SEGMENT"
      ],
      "metadata": {
        "id": "4OAQDxIySiip"
      }
    },
    {
      "cell_type": "code",
      "source": [
        "# MOST OF HOTEL BOOKING WERE MADE AND BY WHICH MARKET SEGMENT\n",
        "# TA :- TRAVEL AGENT\n",
        "# TO :- TRAVEL OPERATER\n",
        "\n",
        "x = list(df.market_segment.value_counts().index.tolist()[0:-1])\n",
        "y = list(df.market_segment.value_counts()[:-1])\n",
        "\n",
        "\n",
        "plt.figure(figsize=(11,6))\n",
        "plt.bar(x,y, color = sns.color_palette(\"husl\"))\n",
        "plt.xlabel(\"MARKET SEGMENT\")\n",
        "plt.ylabel(\"NUMBER OF GUESTS\")\n",
        "plt.title(\"MOST BOOKINGS RECEIVED THROUGH WHICH MARKET SEGMENT\")\n",
        "sns.color_palette(\"hls\")\n",
        "plt.show()"
      ],
      "metadata": {
        "colab": {
          "base_uri": "https://localhost:8080/",
          "height": 404
        },
        "id": "7YfucFG9KiWt",
        "outputId": "7a535f8c-9c04-468d-8676-7fb872cc1aee"
      },
      "execution_count": null,
      "outputs": [
        {
          "output_type": "display_data",
          "data": {
            "text/plain": [
              "<Figure size 792x432 with 1 Axes>"
            ],
            "image/png": "[encoded data removed]"
          },
          "metadata": {
            "needs_background": "light"
          }
        }
      ]
    },
    {
      "cell_type": "code",
      "source": [
        "#  WHAT TYPE OF HOTEL BOOKING WERE MADE AND BY WHICH MARKET SEGMENT\n",
        "\n",
        "# TA :- TRAVEL AGENT\n",
        "# TO :- TRAVEL OPERATER\n",
        "\n",
        "plt.figure(figsize = (11,6))\n",
        "sns.countplot(\"market_segment\", hue = \"hotel\", data = df, palette=\"husl\")\n",
        "plt.xticks(rotation = \"vertical\")\n",
        "plt.legend(loc=\"upper right\")\n",
        "plt.xlabel(\"MARKET SEGMENT\")\n",
        "plt.title(\"HOTEL BOOKINGS RECEIVED THROUGH VARIOUS MARKET SEGMENT\")\n",
        "plt.ylabel(\"NUMBER OF GUEST\")\n",
        "plt.show()"
      ],
      "metadata": {
        "id": "UyZv0MshH_BU",
        "colab": {
          "base_uri": "https://localhost:8080/",
          "height": 474
        },
        "outputId": "f2942d9a-c286-4221-e3a0-b4bb68bd7aac"
      },
      "execution_count": null,
      "outputs": [
        {
          "output_type": "display_data",
          "data": {
            "text/plain": [
              "<Figure size 792x432 with 1 Axes>"
            ],
            "image/png": "[encoded data removed]"
          },
          "metadata": {
            "needs_background": "light"
          }
        }
      ]
    },
    {
      "cell_type": "markdown",
      "source": [
        "**--> IN BOTH HOTEL, RESORT HOTEL OR CITY HOTEL. MOST OF GUESTS DO BOOKING FROM ONLINE TA**\n",
        "\n",
        "**--> MORE THAN 45% OF GUEST BOOKED FROM ONLINE TA** \n"
      ],
      "metadata": {
        "id": "OAh-KMZfAu5Z"
      }
    },
    {
      "cell_type": "code",
      "source": [
        "# DISTRIBUTION CHANNEL\n",
        "\n",
        "# TA :- TRAVEL AGENT\n",
        "# TO :- TRAVEL OPERATER\n",
        "\n",
        "y = list(df[\"distribution_channel\"].value_counts())\n",
        "x = list(df[\"distribution_channel\"].value_counts().index.tolist())\n",
        "\n",
        "plt.figure(figsize= (11,6))\n",
        "plt.bar(x, y, color = sns.color_palette ())\n",
        "plt.ylabel(\"NUMBER OF GUEST\")\n",
        "plt.xlabel(\"DISTIBUTION CHANNEL\")\n",
        "plt.title(\"THE MOST PREFERRED DISTRIBUTION CHANNEL\")\n",
        "plt.show()\n",
        "\n",
        "df[\"distribution_channel\"].value_counts(']')"
      ],
      "metadata": {
        "id": "Qfv8Iy_dNf9U",
        "colab": {
          "base_uri": "https://localhost:8080/",
          "height": 508
        },
        "outputId": "c8f17fcd-4706-4ff6-e963-663eb0e19894"
      },
      "execution_count": null,
      "outputs": [
        {
          "output_type": "display_data",
          "data": {
            "text/plain": [
              "<Figure size 792x432 with 1 Axes>"
            ],
            "image/png": "[encoded data removed]"
          },
          "metadata": {
            "needs_background": "light"
          }
        },
        {
          "output_type": "execute_result",
          "data": {
            "text/plain": [
              "TA/TO        0.819750\n",
              "Direct       0.122665\n",
              "Corporate    0.055926\n",
              "GDS          0.001617\n",
              "Undefined    0.000042\n",
              "Name: distribution_channel, dtype: float64"
            ]
          },
          "metadata": {},
          "execution_count": 43
        }
      ]
    },
    {
      "cell_type": "markdown",
      "source": [
        "**--> MOST OF CHANNEL DISTRIBUTION IS IN TA/TO, WHICH IS MORE THAN 80%**\n"
      ],
      "metadata": {
        "id": "sA-5M3ei3zG4"
      }
    },
    {
      "cell_type": "code",
      "source": [
        "# WHICH HOTEL HAVE MORE REPEATED GUEST\n",
        "sns.countplot(df[df.is_repeated_guest == 1][\"hotel\"], hue= df[df.is_repeated_guest == 1][\"is_repeated_guest\"], data=df, palette= \"husl\")\n",
        "plt.ylabel(\"NUMBER OF GUESTS\")\n",
        "plt.title(\"REPEATED GUESTS\")\n",
        "plt.gca().get_legend().remove()\n",
        "plt.show()"
      ],
      "metadata": {
        "id": "mcWP5wIVrXDS",
        "colab": {
          "base_uri": "https://localhost:8080/",
          "height": 295
        },
        "outputId": "0d8ae98f-178a-4216-fb60-dbb88affe2b7"
      },
      "execution_count": null,
      "outputs": [
        {
          "output_type": "display_data",
          "data": {
            "text/plain": [
              "<Figure size 432x288 with 1 Axes>"
            ],
            "image/png": "[encoded data removed]"
          },
          "metadata": {
            "needs_background": "light"
          }
        }
      ]
    },
    {
      "cell_type": "markdown",
      "source": [
        "**--> CITY HOTEL HAVE MORE REPEATED GUEST THAN RESORT HOTEL**\n",
        "\n",
        "**--> BUT RATIO OF REPEATED GUEST IS MORE IN RESORT HOTEL THAN CITY HOTEL, BECAUSE CITY HOTEL HAVE EVERY HIGH NUMBER OF GUEST THAN RESORT HOTEL**"
      ],
      "metadata": {
        "id": "dem7ybo25j2k"
      }
    },
    {
      "cell_type": "code",
      "source": [
        "# NO DEPOSIT AND REFUNDABLE COULD BE A LOSS!\n",
        "\n",
        "edit_df2 = df[df.is_canceled == 0]\n",
        "\n",
        "a = edit_df2[edit_df2[\"deposit_type\"] != \"Non Refund\"]\n",
        "\n",
        "sns.countplot(\"hotel\", hue = \"deposit_type\", data = a)\n",
        "plt.title(\"BOOKING WITH NO DEPOSIT AND REFUNDABLE\")\n",
        "plt.show()\n",
        "a.groupby([\"hotel\"])[\"deposit_type\"].agg([\"value_counts\"])"
      ],
      "metadata": {
        "id": "PJs-NigEYyKX",
        "colab": {
          "base_uri": "https://localhost:8080/",
          "height": 484
        },
        "outputId": "166f613a-592f-4465-d8ae-aa01b9064584"
      },
      "execution_count": null,
      "outputs": [
        {
          "output_type": "display_data",
          "data": {
            "text/plain": [
              "<Figure size 432x288 with 1 Axes>"
            ],
            "image/png": "[encoded data removed]"
          },
          "metadata": {
            "needs_background": "light"
          }
        },
        {
          "output_type": "execute_result",
          "data": {
            "text/plain": [
              "                           value_counts\n",
              "hotel        deposit_type              \n",
              "City Hotel   No Deposit           46198\n",
              "             Refundable               6\n",
              "Resort Hotel No Deposit           28749\n",
              "             Refundable             120"
            ],
            "text/html": [
              "\n",
              "  <div id=\"df-08c62c45-33b8-46f0-ab82-0efb361ee318\">\n",
              "    <div class=\"colab-df-container\">\n",
              "      <div>\n",
              "<style scoped>\n",
              "    .dataframe tbody tr th:only-of-type {\n",
              "        vertical-align: middle;\n",
              "    }\n",
              "\n",
              "    .dataframe tbody tr th {\n",
              "        vertical-align: top;\n",
              "    }\n",
              "\n",
              "    .dataframe thead th {\n",
              "        text-align: right;\n",
              "    }\n",
              "</style>\n",
              "<table border=\"1\" class=\"dataframe\">\n",
              "  <thead>\n",
              "    <tr style=\"text-align: right;\">\n",
              "      <th></th>\n",
              "      <th></th>\n",
              "      <th>value_counts</th>\n",
              "    </tr>\n",
              "    <tr>\n",
              "      <th>hotel</th>\n",
              "      <th>deposit_type</th>\n",
              "      <th></th>\n",
              "    </tr>\n",
              "  </thead>\n",
              "  <tbody>\n",
              "    <tr>\n",
              "      <th rowspan=\"2\" valign=\"top\">City Hotel</th>\n",
              "      <th>No Deposit</th>\n",
              "      <td>46198</td>\n",
              "    </tr>\n",
              "    <tr>\n",
              "      <th>Refundable</th>\n",
              "      <td>6</td>\n",
              "    </tr>\n",
              "    <tr>\n",
              "      <th rowspan=\"2\" valign=\"top\">Resort Hotel</th>\n",
              "      <th>No Deposit</th>\n",
              "      <td>28749</td>\n",
              "    </tr>\n",
              "    <tr>\n",
              "      <th>Refundable</th>\n",
              "      <td>120</td>\n",
              "    </tr>\n",
              "  </tbody>\n",
              "</table>\n",
              "</div>\n",
              "      <button class=\"colab-df-convert\" onclick=\"convertToInteractive('df-08c62c45-33b8-46f0-ab82-0efb361ee318')\"\n",
              "              title=\"Convert this dataframe to an interactive table.\"\n",
              "              style=\"display:none;\">\n",
              "        \n",
              "  <svg xmlns=\"http://www.w3.org/2000/svg\" height=\"24px\"viewBox=\"0 0 24 24\"\n",
              "       width=\"24px\">\n",
              "    <path d=\"M0 0h24v24H0V0z\" fill=\"none\"/>\n",
              "    <path d=\"M18.56 5.44l.94 2.06.94-2.06 2.06-.94-2.06-.94-.94-2.06-.94 2.06-2.06.94zm-11 1L8.5 8.5l.94-2.06 2.06-.94-2.06-.94L8.5 2.5l-.94 2.06-2.06.94zm10 10l.94 2.06.94-2.06 2.06-.94-2.06-.94-.94-2.06-.94 2.06-2.06.94z\"/><path d=\"M17.41 7.96l-1.37-1.37c-.4-.4-.92-.59-1.43-.59-.52 0-1.04.2-1.43.59L10.3 9.45l-7.72 7.72c-.78.78-.78 2.05 0 2.83L4 21.41c.39.39.9.59 1.41.59.51 0 1.02-.2 1.41-.59l7.78-7.78 2.81-2.81c.8-.78.8-2.07 0-2.86zM5.41 20L4 18.59l7.72-7.72 1.47 1.35L5.41 20z\"/>\n",
              "  </svg>\n",
              "      </button>\n",
              "      \n",
              "  <style>\n",
              "    .colab-df-container {\n",
              "      display:flex;\n",
              "      flex-wrap:wrap;\n",
              "      gap: 12px;\n",
              "    }\n",
              "\n",
              "    .colab-df-convert {\n",
              "      background-color: #E8F0FE;\n",
              "      border: none;\n",
              "      border-radius: 50%;\n",
              "      cursor: pointer;\n",
              "      display: none;\n",
              "      fill: #1967D2;\n",
              "      height: 32px;\n",
              "      padding: 0 0 0 0;\n",
              "      width: 32px;\n",
              "    }\n",
              "\n",
              "    .colab-df-convert:hover {\n",
              "      background-color: #E2EBFA;\n",
              "      box-shadow: 0px 1px 2px rgba(60, 64, 67, 0.3), 0px 1px 3px 1px rgba(60, 64, 67, 0.15);\n",
              "      fill: #174EA6;\n",
              "    }\n",
              "\n",
              "    [theme=dark] .colab-df-convert {\n",
              "      background-color: #3B4455;\n",
              "      fill: #D2E3FC;\n",
              "    }\n",
              "\n",
              "    [theme=dark] .colab-df-convert:hover {\n",
              "      background-color: #434B5C;\n",
              "      box-shadow: 0px 1px 3px 1px rgba(0, 0, 0, 0.15);\n",
              "      filter: drop-shadow(0px 1px 2px rgba(0, 0, 0, 0.3));\n",
              "      fill: #FFFFFF;\n",
              "    }\n",
              "  </style>\n",
              "\n",
              "      <script>\n",
              "        const buttonEl =\n",
              "          document.querySelector('#df-08c62c45-33b8-46f0-ab82-0efb361ee318 button.colab-df-convert');\n",
              "        buttonEl.style.display =\n",
              "          google.colab.kernel.accessAllowed ? 'block' : 'none';\n",
              "\n",
              "        async function convertToInteractive(key) {\n",
              "          const element = document.querySelector('#df-08c62c45-33b8-46f0-ab82-0efb361ee318');\n",
              "          const dataTable =\n",
              "            await google.colab.kernel.invokeFunction('convertToInteractive',\n",
              "                                                     [key], {});\n",
              "          if (!dataTable) return;\n",
              "\n",
              "          const docLinkHtml = 'Like what you see? Visit the ' +\n",
              "            '<a target=\"_blank\" href=https://colab.research.google.com/notebooks/data_table.ipynb>data table notebook</a>'\n",
              "            + ' to learn more about interactive tables.';\n",
              "          element.innerHTML = '';\n",
              "          dataTable['output_type'] = 'display_data';\n",
              "          await google.colab.output.renderOutput(dataTable, element);\n",
              "          const docLink = document.createElement('div');\n",
              "          docLink.innerHTML = docLinkHtml;\n",
              "          element.appendChild(docLink);\n",
              "        }\n",
              "      </script>\n",
              "    </div>\n",
              "  </div>\n",
              "  "
            ]
          },
          "metadata": {},
          "execution_count": 45
        }
      ]
    },
    {
      "cell_type": "markdown",
      "source": [
        "**--> NON DEPOSIT BOOKING IS A LOT MORE THAN REFUNDABLE BOOKING**"
      ],
      "metadata": {
        "id": "EQ7xI7fufgap"
      }
    },
    {
      "cell_type": "code",
      "source": [
        "# TYPE OF ROOM MOST PREFERD BY GUESTS\n",
        "plt.figure(figsize = (11,6))\n",
        "sns.countplot(\"reserved_room_type\", data= df, palette= \"husl\")\n",
        "plt.xlabel(\"RESERVED ROOM TYPE\")\n",
        "plt.ylabel(\"NUMBER OF GUESTS\")\n",
        "plt.title(\"TYPE OF ROOM MOST PREFERD BY GUESTS\")\n",
        "plt.show()"
      ],
      "metadata": {
        "id": "RfJpfNLKiso4",
        "colab": {
          "base_uri": "https://localhost:8080/",
          "height": 404
        },
        "outputId": "f8a42ae8-9473-4762-f030-9d1b7d4244ee"
      },
      "execution_count": null,
      "outputs": [
        {
          "output_type": "display_data",
          "data": {
            "text/plain": [
              "<Figure size 792x432 with 1 Axes>"
            ],
            "image/png": "[encoded data removed]"
          },
          "metadata": {
            "needs_background": "light"
          }
        }
      ]
    },
    {
      "cell_type": "markdown",
      "source": [
        "**--> MOST OF GUEST RESERVED A TYPE OF ROOM**"
      ],
      "metadata": {
        "id": "F-258U99Fqng"
      }
    },
    {
      "cell_type": "code",
      "source": [
        "# IN BOTH TYPE OF HOTEL TYPE OF ROOM MOST PREFERD BY GUESTS \n",
        "\n",
        "plt.figure(figsize = (11,6))\n",
        "sns.countplot(\"reserved_room_type\",hue = \"hotel\", data= df, palette= \"husl\")\n",
        "plt.xlabel(\"RESERVED ROOM TYPE\")\n",
        "plt.ylabel(\"NUMBER OF GUESTS\")\n",
        "plt.title(\"TYPE OF ROOM MOST PREFERRED BY THE GUESTS\")\n",
        "plt.show()"
      ],
      "metadata": {
        "id": "S1tHB4JdyBlo",
        "colab": {
          "base_uri": "https://localhost:8080/",
          "height": 404
        },
        "outputId": "a2be70f4-b34f-4992-80ce-e61c6931704e"
      },
      "execution_count": null,
      "outputs": [
        {
          "output_type": "display_data",
          "data": {
            "text/plain": [
              "<Figure size 792x432 with 1 Axes>"
            ],
            "image/png": "[encoded data removed]"
          },
          "metadata": {
            "needs_background": "light"
          }
        }
      ]
    },
    {
      "cell_type": "markdown",
      "source": [
        "**--> IN BOTH TYPE OF HOTEL, A IS THE ROOM WHICH GET MORE RESERVED THAN ANY OTHER ROOMS**"
      ],
      "metadata": {
        "id": "eB9aj-FFF5jl"
      }
    },
    {
      "cell_type": "code",
      "source": [
        "# TYPE OF ROOM MOST PREFERRED BY SOLO AND DUAL GUESTS\n",
        "\n",
        "a = df[(df.adults == 1) | (df.adults == 2)]\n",
        "plt.figure(figsize = (11,6))\n",
        "sns.countplot(\"reserved_room_type\",hue = \"adults\", data= a, palette= \"husl\")\n",
        "plt.xlabel(\"RESERVED ROOM TYPE\")\n",
        "plt.ylabel(\"NUMBER OF GUESTS\")\n",
        "plt.title(\"TYPE OF ROOM PREFERRED BY SOLO AND DUAL GUEST\")\n",
        "plt.show()"
      ],
      "metadata": {
        "id": "XMIf9MtTYRt1",
        "colab": {
          "base_uri": "https://localhost:8080/",
          "height": 404
        },
        "outputId": "9afe5f21-290c-46a9-eac7-354e49be38e0"
      },
      "execution_count": null,
      "outputs": [
        {
          "output_type": "display_data",
          "data": {
            "text/plain": [
              "<Figure size 792x432 with 1 Axes>"
            ],
            "image/png": "[encoded data removed]"
          },
          "metadata": {
            "needs_background": "light"
          }
        }
      ]
    },
    {
      "cell_type": "markdown",
      "source": [
        ""
      ],
      "metadata": {
        "id": "DbyKP2pXC1sc"
      }
    },
    {
      "cell_type": "code",
      "source": [
        "#HOW MANY GUESTS CHANGE THEIR BOOKINGS?\n",
        "df.groupby([\"hotel\"])[\"booking_changes\"].agg([\"value_counts\"])"
      ],
      "metadata": {
        "colab": {
          "base_uri": "https://localhost:8080/",
          "height": 1000
        },
        "id": "9dotrZr22l-n",
        "outputId": "fb7c717c-de1b-4517-bc3a-b7d9eb93f926"
      },
      "execution_count": null,
      "outputs": [
        {
          "output_type": "execute_result",
          "data": {
            "text/plain": [
              "                              value_counts\n",
              "hotel        booking_changes              \n",
              "City Hotel   0                       69062\n",
              "             1                        7232\n",
              "             2                        2244\n",
              "             3                         467\n",
              "             4                         194\n",
              "             5                          46\n",
              "             6                          31\n",
              "             7                          19\n",
              "             8                           9\n",
              "             14                          5\n",
              "             9                           4\n",
              "             10                          3\n",
              "             13                          3\n",
              "             15                          3\n",
              "             11                          2\n",
              "             12                          1\n",
              "             16                          1\n",
              "             17                          1\n",
              "             18                          1\n",
              "             20                          1\n",
              "             21                          1\n",
              "Resort Hotel 0                       32252\n",
              "             1                        5469\n",
              "             2                        1561\n",
              "             3                         460\n",
              "             4                         182\n",
              "             5                          72\n",
              "             6                          32\n",
              "             7                          12\n",
              "             8                           8\n",
              "             9                           4\n",
              "             10                          3\n",
              "             13                          2\n",
              "             12                          1\n",
              "             16                          1\n",
              "             17                          1"
            ],
            "text/html": [
              "\n",
              "  <div id=\"df-b6092096-a223-4b41-9474-f002db62bffc\">\n",
              "    <div class=\"colab-df-container\">\n",
              "      <div>\n",
              "<style scoped>\n",
              "    .dataframe tbody tr th:only-of-type {\n",
              "        vertical-align: middle;\n",
              "    }\n",
              "\n",
              "    .dataframe tbody tr th {\n",
              "        vertical-align: top;\n",
              "    }\n",
              "\n",
              "    .dataframe thead th {\n",
              "        text-align: right;\n",
              "    }\n",
              "</style>\n",
              "<table border=\"1\" class=\"dataframe\">\n",
              "  <thead>\n",
              "    <tr style=\"text-align: right;\">\n",
              "      <th></th>\n",
              "      <th></th>\n",
              "      <th>value_counts</th>\n",
              "    </tr>\n",
              "    <tr>\n",
              "      <th>hotel</th>\n",
              "      <th>booking_changes</th>\n",
              "      <th></th>\n",
              "    </tr>\n",
              "  </thead>\n",
              "  <tbody>\n",
              "    <tr>\n",
              "      <th rowspan=\"21\" valign=\"top\">City Hotel</th>\n",
              "      <th>0</th>\n",
              "      <td>69062</td>\n",
              "    </tr>\n",
              "    <tr>\n",
              "      <th>1</th>\n",
              "      <td>7232</td>\n",
              "    </tr>\n",
              "    <tr>\n",
              "      <th>2</th>\n",
              "      <td>2244</td>\n",
              "    </tr>\n",
              "    <tr>\n",
              "      <th>3</th>\n",
              "      <td>467</td>\n",
              "    </tr>\n",
              "    <tr>\n",
              "      <th>4</th>\n",
              "      <td>194</td>\n",
              "    </tr>\n",
              "    <tr>\n",
              "      <th>5</th>\n",
              "      <td>46</td>\n",
              "    </tr>\n",
              "    <tr>\n",
              "      <th>6</th>\n",
              "      <td>31</td>\n",
              "    </tr>\n",
              "    <tr>\n",
              "      <th>7</th>\n",
              "      <td>19</td>\n",
              "    </tr>\n",
              "    <tr>\n",
              "      <th>8</th>\n",
              "      <td>9</td>\n",
              "    </tr>\n",
              "    <tr>\n",
              "      <th>14</th>\n",
              "      <td>5</td>\n",
              "    </tr>\n",
              "    <tr>\n",
              "      <th>9</th>\n",
              "      <td>4</td>\n",
              "    </tr>\n",
              "    <tr>\n",
              "      <th>10</th>\n",
              "      <td>3</td>\n",
              "    </tr>\n",
              "    <tr>\n",
              "      <th>13</th>\n",
              "      <td>3</td>\n",
              "    </tr>\n",
              "    <tr>\n",
              "      <th>15</th>\n",
              "      <td>3</td>\n",
              "    </tr>\n",
              "    <tr>\n",
              "      <th>11</th>\n",
              "      <td>2</td>\n",
              "    </tr>\n",
              "    <tr>\n",
              "      <th>12</th>\n",
              "      <td>1</td>\n",
              "    </tr>\n",
              "    <tr>\n",
              "      <th>16</th>\n",
              "      <td>1</td>\n",
              "    </tr>\n",
              "    <tr>\n",
              "      <th>17</th>\n",
              "      <td>1</td>\n",
              "    </tr>\n",
              "    <tr>\n",
              "      <th>18</th>\n",
              "      <td>1</td>\n",
              "    </tr>\n",
              "    <tr>\n",
              "      <th>20</th>\n",
              "      <td>1</td>\n",
              "    </tr>\n",
              "    <tr>\n",
              "      <th>21</th>\n",
              "      <td>1</td>\n",
              "    </tr>\n",
              "    <tr>\n",
              "      <th rowspan=\"15\" valign=\"top\">Resort Hotel</th>\n",
              "      <th>0</th>\n",
              "      <td>32252</td>\n",
              "    </tr>\n",
              "    <tr>\n",
              "      <th>1</th>\n",
              "      <td>5469</td>\n",
              "    </tr>\n",
              "    <tr>\n",
              "      <th>2</th>\n",
              "      <td>1561</td>\n",
              "    </tr>\n",
              "    <tr>\n",
              "      <th>3</th>\n",
              "      <td>460</td>\n",
              "    </tr>\n",
              "    <tr>\n",
              "      <th>4</th>\n",
              "      <td>182</td>\n",
              "    </tr>\n",
              "    <tr>\n",
              "      <th>5</th>\n",
              "      <td>72</td>\n",
              "    </tr>\n",
              "    <tr>\n",
              "      <th>6</th>\n",
              "      <td>32</td>\n",
              "    </tr>\n",
              "    <tr>\n",
              "      <th>7</th>\n",
              "      <td>12</td>\n",
              "    </tr>\n",
              "    <tr>\n",
              "      <th>8</th>\n",
              "      <td>8</td>\n",
              "    </tr>\n",
              "    <tr>\n",
              "      <th>9</th>\n",
              "      <td>4</td>\n",
              "    </tr>\n",
              "    <tr>\n",
              "      <th>10</th>\n",
              "      <td>3</td>\n",
              "    </tr>\n",
              "    <tr>\n",
              "      <th>13</th>\n",
              "      <td>2</td>\n",
              "    </tr>\n",
              "    <tr>\n",
              "      <th>12</th>\n",
              "      <td>1</td>\n",
              "    </tr>\n",
              "    <tr>\n",
              "      <th>16</th>\n",
              "      <td>1</td>\n",
              "    </tr>\n",
              "    <tr>\n",
              "      <th>17</th>\n",
              "      <td>1</td>\n",
              "    </tr>\n",
              "  </tbody>\n",
              "</table>\n",
              "</div>\n",
              "      <button class=\"colab-df-convert\" onclick=\"convertToInteractive('df-b6092096-a223-4b41-9474-f002db62bffc')\"\n",
              "              title=\"Convert this dataframe to an interactive table.\"\n",
              "              style=\"display:none;\">\n",
              "        \n",
              "  <svg xmlns=\"http://www.w3.org/2000/svg\" height=\"24px\"viewBox=\"0 0 24 24\"\n",
              "       width=\"24px\">\n",
              "    <path d=\"M0 0h24v24H0V0z\" fill=\"none\"/>\n",
              "    <path d=\"M18.56 5.44l.94 2.06.94-2.06 2.06-.94-2.06-.94-.94-2.06-.94 2.06-2.06.94zm-11 1L8.5 8.5l.94-2.06 2.06-.94-2.06-.94L8.5 2.5l-.94 2.06-2.06.94zm10 10l.94 2.06.94-2.06 2.06-.94-2.06-.94-.94-2.06-.94 2.06-2.06.94z\"/><path d=\"M17.41 7.96l-1.37-1.37c-.4-.4-.92-.59-1.43-.59-.52 0-1.04.2-1.43.59L10.3 9.45l-7.72 7.72c-.78.78-.78 2.05 0 2.83L4 21.41c.39.39.9.59 1.41.59.51 0 1.02-.2 1.41-.59l7.78-7.78 2.81-2.81c.8-.78.8-2.07 0-2.86zM5.41 20L4 18.59l7.72-7.72 1.47 1.35L5.41 20z\"/>\n",
              "  </svg>\n",
              "      </button>\n",
              "      \n",
              "  <style>\n",
              "    .colab-df-container {\n",
              "      display:flex;\n",
              "      flex-wrap:wrap;\n",
              "      gap: 12px;\n",
              "    }\n",
              "\n",
              "    .colab-df-convert {\n",
              "      background-color: #E8F0FE;\n",
              "      border: none;\n",
              "      border-radius: 50%;\n",
              "      cursor: pointer;\n",
              "      display: none;\n",
              "      fill: #1967D2;\n",
              "      height: 32px;\n",
              "      padding: 0 0 0 0;\n",
              "      width: 32px;\n",
              "    }\n",
              "\n",
              "    .colab-df-convert:hover {\n",
              "      background-color: #E2EBFA;\n",
              "      box-shadow: 0px 1px 2px rgba(60, 64, 67, 0.3), 0px 1px 3px 1px rgba(60, 64, 67, 0.15);\n",
              "      fill: #174EA6;\n",
              "    }\n",
              "\n",
              "    [theme=dark] .colab-df-convert {\n",
              "      background-color: #3B4455;\n",
              "      fill: #D2E3FC;\n",
              "    }\n",
              "\n",
              "    [theme=dark] .colab-df-convert:hover {\n",
              "      background-color: #434B5C;\n",
              "      box-shadow: 0px 1px 3px 1px rgba(0, 0, 0, 0.15);\n",
              "      filter: drop-shadow(0px 1px 2px rgba(0, 0, 0, 0.3));\n",
              "      fill: #FFFFFF;\n",
              "    }\n",
              "  </style>\n",
              "\n",
              "      <script>\n",
              "        const buttonEl =\n",
              "          document.querySelector('#df-b6092096-a223-4b41-9474-f002db62bffc button.colab-df-convert');\n",
              "        buttonEl.style.display =\n",
              "          google.colab.kernel.accessAllowed ? 'block' : 'none';\n",
              "\n",
              "        async function convertToInteractive(key) {\n",
              "          const element = document.querySelector('#df-b6092096-a223-4b41-9474-f002db62bffc');\n",
              "          const dataTable =\n",
              "            await google.colab.kernel.invokeFunction('convertToInteractive',\n",
              "                                                     [key], {});\n",
              "          if (!dataTable) return;\n",
              "\n",
              "          const docLinkHtml = 'Like what you see? Visit the ' +\n",
              "            '<a target=\"_blank\" href=https://colab.research.google.com/notebooks/data_table.ipynb>data table notebook</a>'\n",
              "            + ' to learn more about interactive tables.';\n",
              "          element.innerHTML = '';\n",
              "          dataTable['output_type'] = 'display_data';\n",
              "          await google.colab.output.renderOutput(dataTable, element);\n",
              "          const docLink = document.createElement('div');\n",
              "          docLink.innerHTML = docLinkHtml;\n",
              "          element.appendChild(docLink);\n",
              "        }\n",
              "      </script>\n",
              "    </div>\n",
              "  </div>\n",
              "  "
            ]
          },
          "metadata": {},
          "execution_count": 49
        }
      ]
    },
    {
      "cell_type": "code",
      "source": [
        "# DEPOSIT WHICH REFUNDED AND NON-REFUNDED\n",
        "\n",
        "sns.countplot(df[df[\"deposit_type\"] != \"No Deposit\"][\"deposit_type\"], data = df, palette= \"husl\")\n",
        "plt.xlabel(\"DEPOSIT\")\n",
        "plt.ylabel(\"NUMBER OF GUESTS\")\n",
        "plt.title(\"DEPOSIT WHICH REFUNDED AND NON-REFUNDED\")\n",
        "plt.show()"
      ],
      "metadata": {
        "id": "yxzWjUpLDG0q",
        "colab": {
          "base_uri": "https://localhost:8080/",
          "height": 295
        },
        "outputId": "1252e328-832a-4624-ba72-4725e88984ef"
      },
      "execution_count": null,
      "outputs": [
        {
          "output_type": "display_data",
          "data": {
            "text/plain": [
              "<Figure size 432x288 with 1 Axes>"
            ],
            "image/png": "[encoded data removed]"
          },
          "metadata": {
            "needs_background": "light"
          }
        }
      ]
    },
    {
      "cell_type": "markdown",
      "source": [
        "**--> MOST OF DEPOSIT WAS NON-REFUNDABLE**"
      ],
      "metadata": {
        "id": "6CHgw_YUM0eo"
      }
    },
    {
      "cell_type": "code",
      "source": [
        "# AGENT TABLE\n",
        "\n",
        "df[[\"agent\", \"adults\"]]"
      ],
      "metadata": {
        "id": "TrecfiLz2l7f",
        "colab": {
          "base_uri": "https://localhost:8080/",
          "height": 423
        },
        "outputId": "675d516a-5bec-465b-ca93-e64ca509f405"
      },
      "execution_count": null,
      "outputs": [
        {
          "output_type": "execute_result",
          "data": {
            "text/plain": [
              "        agent  adults\n",
              "0         0.0       2\n",
              "1         0.0       2\n",
              "2         0.0       1\n",
              "3       304.0       1\n",
              "4       240.0       2\n",
              "...       ...     ...\n",
              "119385  394.0       2\n",
              "119386    9.0       3\n",
              "119387    9.0       2\n",
              "119388   89.0       2\n",
              "119389    9.0       2\n",
              "\n",
              "[119390 rows x 2 columns]"
            ],
            "text/html": [
              "\n",
              "  <div id=\"df-d356307d-07aa-4eac-bf19-e7b898072b63\">\n",
              "    <div class=\"colab-df-container\">\n",
              "      <div>\n",
              "<style scoped>\n",
              "    .dataframe tbody tr th:only-of-type {\n",
              "        vertical-align: middle;\n",
              "    }\n",
              "\n",
              "    .dataframe tbody tr th {\n",
              "        vertical-align: top;\n",
              "    }\n",
              "\n",
              "    .dataframe thead th {\n",
              "        text-align: right;\n",
              "    }\n",
              "</style>\n",
              "<table border=\"1\" class=\"dataframe\">\n",
              "  <thead>\n",
              "    <tr style=\"text-align: right;\">\n",
              "      <th></th>\n",
              "      <th>agent</th>\n",
              "      <th>adults</th>\n",
              "    </tr>\n",
              "  </thead>\n",
              "  <tbody>\n",
              "    <tr>\n",
              "      <th>0</th>\n",
              "      <td>0.0</td>\n",
              "      <td>2</td>\n",
              "    </tr>\n",
              "    <tr>\n",
              "      <th>1</th>\n",
              "      <td>0.0</td>\n",
              "      <td>2</td>\n",
              "    </tr>\n",
              "    <tr>\n",
              "      <th>2</th>\n",
              "      <td>0.0</td>\n",
              "      <td>1</td>\n",
              "    </tr>\n",
              "    <tr>\n",
              "      <th>3</th>\n",
              "      <td>304.0</td>\n",
              "      <td>1</td>\n",
              "    </tr>\n",
              "    <tr>\n",
              "      <th>4</th>\n",
              "      <td>240.0</td>\n",
              "      <td>2</td>\n",
              "    </tr>\n",
              "    <tr>\n",
              "      <th>...</th>\n",
              "      <td>...</td>\n",
              "      <td>...</td>\n",
              "    </tr>\n",
              "    <tr>\n",
              "      <th>119385</th>\n",
              "      <td>394.0</td>\n",
              "      <td>2</td>\n",
              "    </tr>\n",
              "    <tr>\n",
              "      <th>119386</th>\n",
              "      <td>9.0</td>\n",
              "      <td>3</td>\n",
              "    </tr>\n",
              "    <tr>\n",
              "      <th>119387</th>\n",
              "      <td>9.0</td>\n",
              "      <td>2</td>\n",
              "    </tr>\n",
              "    <tr>\n",
              "      <th>119388</th>\n",
              "      <td>89.0</td>\n",
              "      <td>2</td>\n",
              "    </tr>\n",
              "    <tr>\n",
              "      <th>119389</th>\n",
              "      <td>9.0</td>\n",
              "      <td>2</td>\n",
              "    </tr>\n",
              "  </tbody>\n",
              "</table>\n",
              "<p>119390 rows × 2 columns</p>\n",
              "</div>\n",
              "      <button class=\"colab-df-convert\" onclick=\"convertToInteractive('df-d356307d-07aa-4eac-bf19-e7b898072b63')\"\n",
              "              title=\"Convert this dataframe to an interactive table.\"\n",
              "              style=\"display:none;\">\n",
              "        \n",
              "  <svg xmlns=\"http://www.w3.org/2000/svg\" height=\"24px\"viewBox=\"0 0 24 24\"\n",
              "       width=\"24px\">\n",
              "    <path d=\"M0 0h24v24H0V0z\" fill=\"none\"/>\n",
              "    <path d=\"M18.56 5.44l.94 2.06.94-2.06 2.06-.94-2.06-.94-.94-2.06-.94 2.06-2.06.94zm-11 1L8.5 8.5l.94-2.06 2.06-.94-2.06-.94L8.5 2.5l-.94 2.06-2.06.94zm10 10l.94 2.06.94-2.06 2.06-.94-2.06-.94-.94-2.06-.94 2.06-2.06.94z\"/><path d=\"M17.41 7.96l-1.37-1.37c-.4-.4-.92-.59-1.43-.59-.52 0-1.04.2-1.43.59L10.3 9.45l-7.72 7.72c-.78.78-.78 2.05 0 2.83L4 21.41c.39.39.9.59 1.41.59.51 0 1.02-.2 1.41-.59l7.78-7.78 2.81-2.81c.8-.78.8-2.07 0-2.86zM5.41 20L4 18.59l7.72-7.72 1.47 1.35L5.41 20z\"/>\n",
              "  </svg>\n",
              "      </button>\n",
              "      \n",
              "  <style>\n",
              "    .colab-df-container {\n",
              "      display:flex;\n",
              "      flex-wrap:wrap;\n",
              "      gap: 12px;\n",
              "    }\n",
              "\n",
              "    .colab-df-convert {\n",
              "      background-color: #E8F0FE;\n",
              "      border: none;\n",
              "      border-radius: 50%;\n",
              "      cursor: pointer;\n",
              "      display: none;\n",
              "      fill: #1967D2;\n",
              "      height: 32px;\n",
              "      padding: 0 0 0 0;\n",
              "      width: 32px;\n",
              "    }\n",
              "\n",
              "    .colab-df-convert:hover {\n",
              "      background-color: #E2EBFA;\n",
              "      box-shadow: 0px 1px 2px rgba(60, 64, 67, 0.3), 0px 1px 3px 1px rgba(60, 64, 67, 0.15);\n",
              "      fill: #174EA6;\n",
              "    }\n",
              "\n",
              "    [theme=dark] .colab-df-convert {\n",
              "      background-color: #3B4455;\n",
              "      fill: #D2E3FC;\n",
              "    }\n",
              "\n",
              "    [theme=dark] .colab-df-convert:hover {\n",
              "      background-color: #434B5C;\n",
              "      box-shadow: 0px 1px 3px 1px rgba(0, 0, 0, 0.15);\n",
              "      filter: drop-shadow(0px 1px 2px rgba(0, 0, 0, 0.3));\n",
              "      fill: #FFFFFF;\n",
              "    }\n",
              "  </style>\n",
              "\n",
              "      <script>\n",
              "        const buttonEl =\n",
              "          document.querySelector('#df-d356307d-07aa-4eac-bf19-e7b898072b63 button.colab-df-convert');\n",
              "        buttonEl.style.display =\n",
              "          google.colab.kernel.accessAllowed ? 'block' : 'none';\n",
              "\n",
              "        async function convertToInteractive(key) {\n",
              "          const element = document.querySelector('#df-d356307d-07aa-4eac-bf19-e7b898072b63');\n",
              "          const dataTable =\n",
              "            await google.colab.kernel.invokeFunction('convertToInteractive',\n",
              "                                                     [key], {});\n",
              "          if (!dataTable) return;\n",
              "\n",
              "          const docLinkHtml = 'Like what you see? Visit the ' +\n",
              "            '<a target=\"_blank\" href=https://colab.research.google.com/notebooks/data_table.ipynb>data table notebook</a>'\n",
              "            + ' to learn more about interactive tables.';\n",
              "          element.innerHTML = '';\n",
              "          dataTable['output_type'] = 'display_data';\n",
              "          await google.colab.output.renderOutput(dataTable, element);\n",
              "          const docLink = document.createElement('div');\n",
              "          docLink.innerHTML = docLinkHtml;\n",
              "          element.appendChild(docLink);\n",
              "        }\n",
              "      </script>\n",
              "    </div>\n",
              "  </div>\n",
              "  "
            ]
          },
          "metadata": {},
          "execution_count": 51
        }
      ]
    },
    {
      "cell_type": "code",
      "source": [
        "# COUNT OF TYPES OF CUSTOMERS\n",
        "\n",
        "plt.figure(figsize = (11, 6))\n",
        "sns.countplot(df[\"customer_type\"])\n",
        "plt.xlabel(\"TYPES OF CUSTOMERS\")\n",
        "plt.ylabel(\"NUMBER OF CUSTOMERS\")\n",
        "plt.title(\"COUNT OF TYPES OF CUSTOMERS\")\n",
        "plt.show()\n",
        "\n",
        "df[\"customer_type\"].value_counts(']')"
      ],
      "metadata": {
        "id": "jtotytHj2lqH",
        "colab": {
          "base_uri": "https://localhost:8080/",
          "height": 491
        },
        "outputId": "c99c67c8-fb0c-40ab-e68a-62378bb91c07"
      },
      "execution_count": null,
      "outputs": [
        {
          "output_type": "display_data",
          "data": {
            "text/plain": [
              "<Figure size 792x432 with 1 Axes>"
            ],
            "image/png": "[encoded data removed]"
          },
          "metadata": {
            "needs_background": "light"
          }
        },
        {
          "output_type": "execute_result",
          "data": {
            "text/plain": [
              "Transient          0.750591\n",
              "Transient-Party    0.210436\n",
              "Contract           0.034140\n",
              "Group              0.004833\n",
              "Name: customer_type, dtype: float64"
            ]
          },
          "metadata": {},
          "execution_count": 52
        }
      ]
    },
    {
      "cell_type": "markdown",
      "source": [
        "\n",
        "**--> 75% TYPE OF GUEST WAS TRANSIENT**"
      ],
      "metadata": {
        "id": "Lx6g7mzHGrqR"
      }
    },
    {
      "cell_type": "code",
      "source": [
        "# TYPE OF CUSTOMERS WHO PERFER WHICH TYPE OF HOTEL\n",
        "\n",
        "plt.figure(figsize = (11, 6))\n",
        "sns.countplot(df[\"customer_type\"], hue = df[\"hotel\"], palette= \"husl\")\n",
        "plt.xlabel(\"TYPE OF CUSTOMERS\")\n",
        "plt.ylabel(\"NUMBERS OF CUSTOMERS\")\n",
        "plt.title(\"TYPE OF CUSTOMERS WHO PREFER WHICH TYPE OF HOTEL\")\n",
        "plt.show()"
      ],
      "metadata": {
        "id": "vryDYJiY2lnF",
        "colab": {
          "base_uri": "https://localhost:8080/",
          "height": 404
        },
        "outputId": "a88819fc-c27d-4240-dac0-cf6234d7cdb2"
      },
      "execution_count": null,
      "outputs": [
        {
          "output_type": "display_data",
          "data": {
            "text/plain": [
              "<Figure size 792x432 with 1 Axes>"
            ],
            "image/png": "[encoded data removed]"
          },
          "metadata": {
            "needs_background": "light"
          }
        }
      ]
    },
    {
      "cell_type": "code",
      "source": [
        "# REQUIRED CAR PARKING SPACES TABLE\n",
        "df['required_car_parking_spaces'].value_counts()\n",
        "df.groupby([\"hotel\"])[\"required_car_parking_spaces\"].agg([\"value_counts\"])"
      ],
      "metadata": {
        "colab": {
          "base_uri": "https://localhost:8080/",
          "height": 363
        },
        "id": "NrCqROupkK3o",
        "outputId": "bf94ec8d-04a7-4849-b6dc-06ae62277fbc"
      },
      "execution_count": null,
      "outputs": [
        {
          "output_type": "execute_result",
          "data": {
            "text/plain": [
              "                                          value_counts\n",
              "hotel        required_car_parking_spaces              \n",
              "City Hotel   0                                   77404\n",
              "             1                                    1921\n",
              "             2                                       3\n",
              "             3                                       2\n",
              "Resort Hotel 0                                   34570\n",
              "             1                                    5462\n",
              "             2                                      25\n",
              "             8                                       2\n",
              "             3                                       1"
            ],
            "text/html": [
              "\n",
              "  <div id=\"df-5ac3e298-807f-42d7-8255-4b4bfc8daa02\">\n",
              "    <div class=\"colab-df-container\">\n",
              "      <div>\n",
              "<style scoped>\n",
              "    .dataframe tbody tr th:only-of-type {\n",
              "        vertical-align: middle;\n",
              "    }\n",
              "\n",
              "    .dataframe tbody tr th {\n",
              "        vertical-align: top;\n",
              "    }\n",
              "\n",
              "    .dataframe thead th {\n",
              "        text-align: right;\n",
              "    }\n",
              "</style>\n",
              "<table border=\"1\" class=\"dataframe\">\n",
              "  <thead>\n",
              "    <tr style=\"text-align: right;\">\n",
              "      <th></th>\n",
              "      <th></th>\n",
              "      <th>value_counts</th>\n",
              "    </tr>\n",
              "    <tr>\n",
              "      <th>hotel</th>\n",
              "      <th>required_car_parking_spaces</th>\n",
              "      <th></th>\n",
              "    </tr>\n",
              "  </thead>\n",
              "  <tbody>\n",
              "    <tr>\n",
              "      <th rowspan=\"4\" valign=\"top\">City Hotel</th>\n",
              "      <th>0</th>\n",
              "      <td>77404</td>\n",
              "    </tr>\n",
              "    <tr>\n",
              "      <th>1</th>\n",
              "      <td>1921</td>\n",
              "    </tr>\n",
              "    <tr>\n",
              "      <th>2</th>\n",
              "      <td>3</td>\n",
              "    </tr>\n",
              "    <tr>\n",
              "      <th>3</th>\n",
              "      <td>2</td>\n",
              "    </tr>\n",
              "    <tr>\n",
              "      <th rowspan=\"5\" valign=\"top\">Resort Hotel</th>\n",
              "      <th>0</th>\n",
              "      <td>34570</td>\n",
              "    </tr>\n",
              "    <tr>\n",
              "      <th>1</th>\n",
              "      <td>5462</td>\n",
              "    </tr>\n",
              "    <tr>\n",
              "      <th>2</th>\n",
              "      <td>25</td>\n",
              "    </tr>\n",
              "    <tr>\n",
              "      <th>8</th>\n",
              "      <td>2</td>\n",
              "    </tr>\n",
              "    <tr>\n",
              "      <th>3</th>\n",
              "      <td>1</td>\n",
              "    </tr>\n",
              "  </tbody>\n",
              "</table>\n",
              "</div>\n",
              "      <button class=\"colab-df-convert\" onclick=\"convertToInteractive('df-5ac3e298-807f-42d7-8255-4b4bfc8daa02')\"\n",
              "              title=\"Convert this dataframe to an interactive table.\"\n",
              "              style=\"display:none;\">\n",
              "        \n",
              "  <svg xmlns=\"http://www.w3.org/2000/svg\" height=\"24px\"viewBox=\"0 0 24 24\"\n",
              "       width=\"24px\">\n",
              "    <path d=\"M0 0h24v24H0V0z\" fill=\"none\"/>\n",
              "    <path d=\"M18.56 5.44l.94 2.06.94-2.06 2.06-.94-2.06-.94-.94-2.06-.94 2.06-2.06.94zm-11 1L8.5 8.5l.94-2.06 2.06-.94-2.06-.94L8.5 2.5l-.94 2.06-2.06.94zm10 10l.94 2.06.94-2.06 2.06-.94-2.06-.94-.94-2.06-.94 2.06-2.06.94z\"/><path d=\"M17.41 7.96l-1.37-1.37c-.4-.4-.92-.59-1.43-.59-.52 0-1.04.2-1.43.59L10.3 9.45l-7.72 7.72c-.78.78-.78 2.05 0 2.83L4 21.41c.39.39.9.59 1.41.59.51 0 1.02-.2 1.41-.59l7.78-7.78 2.81-2.81c.8-.78.8-2.07 0-2.86zM5.41 20L4 18.59l7.72-7.72 1.47 1.35L5.41 20z\"/>\n",
              "  </svg>\n",
              "      </button>\n",
              "      \n",
              "  <style>\n",
              "    .colab-df-container {\n",
              "      display:flex;\n",
              "      flex-wrap:wrap;\n",
              "      gap: 12px;\n",
              "    }\n",
              "\n",
              "    .colab-df-convert {\n",
              "      background-color: #E8F0FE;\n",
              "      border: none;\n",
              "      border-radius: 50%;\n",
              "      cursor: pointer;\n",
              "      display: none;\n",
              "      fill: #1967D2;\n",
              "      height: 32px;\n",
              "      padding: 0 0 0 0;\n",
              "      width: 32px;\n",
              "    }\n",
              "\n",
              "    .colab-df-convert:hover {\n",
              "      background-color: #E2EBFA;\n",
              "      box-shadow: 0px 1px 2px rgba(60, 64, 67, 0.3), 0px 1px 3px 1px rgba(60, 64, 67, 0.15);\n",
              "      fill: #174EA6;\n",
              "    }\n",
              "\n",
              "    [theme=dark] .colab-df-convert {\n",
              "      background-color: #3B4455;\n",
              "      fill: #D2E3FC;\n",
              "    }\n",
              "\n",
              "    [theme=dark] .colab-df-convert:hover {\n",
              "      background-color: #434B5C;\n",
              "      box-shadow: 0px 1px 3px 1px rgba(0, 0, 0, 0.15);\n",
              "      filter: drop-shadow(0px 1px 2px rgba(0, 0, 0, 0.3));\n",
              "      fill: #FFFFFF;\n",
              "    }\n",
              "  </style>\n",
              "\n",
              "      <script>\n",
              "        const buttonEl =\n",
              "          document.querySelector('#df-5ac3e298-807f-42d7-8255-4b4bfc8daa02 button.colab-df-convert');\n",
              "        buttonEl.style.display =\n",
              "          google.colab.kernel.accessAllowed ? 'block' : 'none';\n",
              "\n",
              "        async function convertToInteractive(key) {\n",
              "          const element = document.querySelector('#df-5ac3e298-807f-42d7-8255-4b4bfc8daa02');\n",
              "          const dataTable =\n",
              "            await google.colab.kernel.invokeFunction('convertToInteractive',\n",
              "                                                     [key], {});\n",
              "          if (!dataTable) return;\n",
              "\n",
              "          const docLinkHtml = 'Like what you see? Visit the ' +\n",
              "            '<a target=\"_blank\" href=https://colab.research.google.com/notebooks/data_table.ipynb>data table notebook</a>'\n",
              "            + ' to learn more about interactive tables.';\n",
              "          element.innerHTML = '';\n",
              "          dataTable['output_type'] = 'display_data';\n",
              "          await google.colab.output.renderOutput(dataTable, element);\n",
              "          const docLink = document.createElement('div');\n",
              "          docLink.innerHTML = docLinkHtml;\n",
              "          element.appendChild(docLink);\n",
              "        }\n",
              "      </script>\n",
              "    </div>\n",
              "  </div>\n",
              "  "
            ]
          },
          "metadata": {},
          "execution_count": 54
        }
      ]
    },
    {
      "cell_type": "code",
      "source": [
        "# GUESTS REQUIREMENT FOR CAR PARKING\n",
        "\n",
        "plt.figure(figsize = (11,6))\n",
        "sns.countplot(df[df['required_car_parking_spaces'] > 0 ]['required_car_parking_spaces'], data = df)\n",
        "plt.xlabel(\"NUMBER OF CAR PARKING\")\n",
        "plt.ylabel(\"NUMBER OF GUESTS\")\n",
        "plt.title(\"GUESTS REQUIREMENT FOR CAR PARKING\")\n",
        "plt.show()"
      ],
      "metadata": {
        "colab": {
          "base_uri": "https://localhost:8080/",
          "height": 404
        },
        "id": "d-jkF4BBmArO",
        "outputId": "62c67b69-78c5-4793-de82-df7c08673dff"
      },
      "execution_count": null,
      "outputs": [
        {
          "output_type": "display_data",
          "data": {
            "text/plain": [
              "<Figure size 792x432 with 1 Axes>"
            ],
            "image/png": "[encoded data removed]"
          },
          "metadata": {
            "needs_background": "light"
          }
        }
      ]
    },
    {
      "cell_type": "markdown",
      "source": [
        "**--> NUMBER OF CAR PARKING REQUIRD 1, 2, 3 AND 8. BUT 1 CAR PARKING IS REQUIRD FROM THE MORE NUMBER OF GUEST**"
      ],
      "metadata": {
        "id": "VOGTG-F5HgFZ"
      }
    },
    {
      "cell_type": "code",
      "source": [
        "# TOTAL SPECIAL REQUESTS IN 3 YEARS\n",
        "\n",
        "plt.figure(figsize = (11,6))\n",
        "sns.countplot(df[df['total_of_special_requests'] > 0 ]['total_of_special_requests'], data = df)\n",
        "plt.xlabel(\"SPECIAL REQUEST\")\n",
        "plt.ylabel(\"COUNTS OF SPECIAL REQUESTS\")\n",
        "plt.title(\"TOTAL SPECIAL REQUESTS IN 3 YEARS\")\n",
        "plt.show()"
      ],
      "metadata": {
        "id": "IvBCigAjkKxY",
        "colab": {
          "base_uri": "https://localhost:8080/",
          "height": 404
        },
        "outputId": "bcae4767-c5c2-40a8-93ae-aeefcbdd8e2e"
      },
      "execution_count": null,
      "outputs": [
        {
          "output_type": "display_data",
          "data": {
            "text/plain": [
              "<Figure size 792x432 with 1 Axes>"
            ],
            "image/png": "[encoded data removed]"
          },
          "metadata": {
            "needs_background": "light"
          }
        }
      ]
    },
    {
      "cell_type": "markdown",
      "source": [
        "**--> SO 1 NUMBER OF SPECIAL REQUEST IS THE HIGHEST**"
      ],
      "metadata": {
        "id": "OM0Rtp2aPuzb"
      }
    },
    {
      "cell_type": "code",
      "source": [
        "# SPECIAL REQUEST FOR DIFFERENT HOTELS\n",
        "\n",
        "a = df.copy()\n",
        "a[\"SPECIAL REQUEST\"] = a[\"total_of_special_requests\"]\n",
        "\n",
        "plt.figure(figsize = (11,6))\n",
        "sns.countplot(\"hotel\", hue = \"SPECIAL REQUEST\", data = a)\n",
        "plt.title(\"SPECIAL REQUEST FOR DIFFERENT HOTELS\")\n",
        "plt.show()"
      ],
      "metadata": {
        "id": "b25mWfPrkKuQ",
        "colab": {
          "base_uri": "https://localhost:8080/",
          "height": 404
        },
        "outputId": "541dc0f9-3134-4acb-fe99-fb9f424f6ce9"
      },
      "execution_count": null,
      "outputs": [
        {
          "output_type": "display_data",
          "data": {
            "text/plain": [
              "<Figure size 792x432 with 1 Axes>"
            ],
            "image/png": "[encoded data removed]"
          },
          "metadata": {
            "needs_background": "light"
          }
        }
      ]
    },
    {
      "cell_type": "markdown",
      "source": [
        "**--> 0 MEANS NO SPECIAL REQUEST! SO BOTH HOTEL HAVE 1 NUMBER OF SPECIAL MORE THAN OTHER NUMBER OF SPECIAL REQUEST** "
      ],
      "metadata": {
        "id": "NYEyo4yBTv4u"
      }
    },
    {
      "cell_type": "code",
      "source": [
        "# RESERVATION STATUS\n",
        "\n",
        "plt.figure(figsize = (11,6))\n",
        "sns.countplot(\"reservation_status\", data = df)\n",
        "plt.xlabel(\"STATUS\")\n",
        "plt.title(\"RESERVATION STATUS IN 3 YEARS\")\n",
        "plt.show()"
      ],
      "metadata": {
        "colab": {
          "base_uri": "https://localhost:8080/",
          "height": 404
        },
        "id": "opjZSZfYkKiy",
        "outputId": "b9f70b26-a3da-4890-abe3-6c5e671c12ae"
      },
      "execution_count": null,
      "outputs": [
        {
          "output_type": "display_data",
          "data": {
            "text/plain": [
              "<Figure size 792x432 with 1 Axes>"
            ],
            "image/png": "[encoded data removed]"
          },
          "metadata": {
            "needs_background": "light"
          }
        }
      ]
    },
    {
      "cell_type": "markdown",
      "source": [
        "**--> CONCLUSION:**\n",
        "1. Type A room is in most demand.\n",
        "2. Most bookings were made from online travel agents.\n",
        "3. Most customers are from Portugal.\n",
        "4. Most customers prefer the Bed and breakfast meal type.\n",
        "5. City hotels are more engaging and in demand. Hence, city hotels are more profitable.\n",
        "6. City hotels receives a higher number of guests than the resort hotels. However, the cancellation rate is more for city hotels.\n",
        "7. City hotels have a higher number of repeat customers. However, the ratio of repeat customers is more for resort hotels as the city hotels receives a higher number of guests than the resort hotels.\n",
        "8. Non-refundable deposits tend to convert to a successful transaction.\n",
        "9. May is the busier and most profitable month for the hotels in 2017. \n",
        "10. On an average, May-June is the busier and most profitable month for the hotels.\n",
        "11. City hotels have received the most special requests.\n",
        "12. 1 number of requests is the highest.\n",
        "13. 1 car parking was needed for most of the guests."
      ],
      "metadata": {
        "id": "TxG8mcZFjPwY"
      }
    }
  ]
}